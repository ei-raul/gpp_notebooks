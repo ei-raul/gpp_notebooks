{
 "cells": [
  {
   "cell_type": "markdown",
   "id": "c696a104-5e35-4c8f-96b4-914fa677b241",
   "metadata": {
    "tags": []
   },
   "source": [
    "# Utilizando a biblioteca Pandas"
   ]
  },
  {
   "cell_type": "code",
   "execution_count": 61,
   "id": "1876e83d-7bc5-4349-a283-625f3bbd4108",
   "metadata": {},
   "outputs": [],
   "source": [
    "import pandas as pd"
   ]
  },
  {
   "cell_type": "markdown",
   "id": "f2ecd5dd-b5e0-40fd-8fe1-6d80e0d4d7a2",
   "metadata": {
    "tags": []
   },
   "source": [
    "## pd.Series\n",
    "\n",
    "Uma `pd.Series` é um dos objetos centrais do Pandas. Podem ser utilizados para representar listas de valores."
   ]
  },
  {
   "cell_type": "code",
   "execution_count": 62,
   "id": "4f0cf2f8-daf2-495e-8679-04f22a24cf7d",
   "metadata": {},
   "outputs": [],
   "source": [
    "mySeries = pd.Series([1, 2, 3, 4, 5])"
   ]
  },
  {
   "cell_type": "code",
   "execution_count": 64,
   "id": "0b77b0f3-b904-4a7c-8fe7-4672a1263ecc",
   "metadata": {},
   "outputs": [
    {
     "data": {
      "text/plain": [
       "0    1\n",
       "1    2\n",
       "2    3\n",
       "3    4\n",
       "4    5\n",
       "dtype: int64"
      ]
     },
     "execution_count": 64,
     "metadata": {},
     "output_type": "execute_result"
    }
   ],
   "source": [
    "mySeries"
   ]
  },
  {
   "cell_type": "markdown",
   "id": "6896928a-3f06-45aa-847f-77c3847bbc19",
   "metadata": {
    "tags": []
   },
   "source": [
    "### Também podemos inicializar uma Series de outras formas"
   ]
  },
  {
   "cell_type": "code",
   "execution_count": 67,
   "id": "29954417-11a0-41a6-b1d6-aa414b52d919",
   "metadata": {},
   "outputs": [],
   "source": [
    "mySeriesFromDict = pd.Series({\n",
    "    'primeiro': 1, \n",
    "    'segundo': 3, \n",
    "    'terceiro': 2, \n",
    "    'outra-chave': 'Raul'\n",
    "})"
   ]
  },
  {
   "cell_type": "code",
   "execution_count": 68,
   "id": "bc3b7db4-77b5-4ea7-887f-334338beffe7",
   "metadata": {
    "scrolled": true
   },
   "outputs": [
    {
     "data": {
      "text/plain": [
       "primeiro          1\n",
       "segundo           3\n",
       "terceiro          2\n",
       "outra-chave    Raul\n",
       "dtype: object"
      ]
     },
     "execution_count": 68,
     "metadata": {},
     "output_type": "execute_result"
    }
   ],
   "source": [
    "mySeriesFromDict"
   ]
  },
  {
   "cell_type": "code",
   "execution_count": 6,
   "id": "85cc1c5b-fbec-4b58-afbd-ac6fb21e993b",
   "metadata": {},
   "outputs": [
    {
     "data": {
      "text/plain": [
       "'Raul'"
      ]
     },
     "execution_count": 6,
     "metadata": {},
     "output_type": "execute_result"
    }
   ],
   "source": [
    "mySeriesFromDict['outra-chave']"
   ]
  },
  {
   "cell_type": "code",
   "execution_count": 7,
   "id": "13de6e5a-5763-40a6-b5d0-dd122c2ecf68",
   "metadata": {},
   "outputs": [
    {
     "data": {
      "text/plain": [
       "3"
      ]
     },
     "execution_count": 7,
     "metadata": {},
     "output_type": "execute_result"
    }
   ],
   "source": [
    "mySeriesFromDict['segundo']"
   ]
  },
  {
   "cell_type": "markdown",
   "id": "eb839520-b4f4-4fcf-b04e-89e824ac61cd",
   "metadata": {},
   "source": [
    "### Podemos alterar valores de uma Series através de seu index e adicionar novos pares chave-valor"
   ]
  },
  {
   "cell_type": "code",
   "execution_count": 69,
   "id": "200d100e-7ee2-48d8-a616-39fb66f7db2a",
   "metadata": {},
   "outputs": [],
   "source": [
    "mySeriesFromDict['outra-chave'] = 'Maria'"
   ]
  },
  {
   "cell_type": "code",
   "execution_count": 70,
   "id": "18f9a5d1-63cf-4fa4-a2cf-6f97b1130201",
   "metadata": {},
   "outputs": [
    {
     "data": {
      "text/plain": [
       "primeiro           1\n",
       "segundo            3\n",
       "terceiro           2\n",
       "outra-chave    Maria\n",
       "dtype: object"
      ]
     },
     "execution_count": 70,
     "metadata": {},
     "output_type": "execute_result"
    }
   ],
   "source": [
    "mySeriesFromDict"
   ]
  },
  {
   "cell_type": "code",
   "execution_count": 71,
   "id": "b515ecbd-b4e7-48db-a436-8f58876b5955",
   "metadata": {},
   "outputs": [],
   "source": [
    "mySeriesFromDict['chave-que-não-existe'] = 9"
   ]
  },
  {
   "cell_type": "code",
   "execution_count": 72,
   "id": "72b95af7-e45c-44da-8537-ec1a1ae1313c",
   "metadata": {},
   "outputs": [
    {
     "data": {
      "text/plain": [
       "primeiro                    1\n",
       "segundo                     3\n",
       "terceiro                    2\n",
       "outra-chave             Maria\n",
       "chave-que-não-existe        9\n",
       "dtype: object"
      ]
     },
     "execution_count": 72,
     "metadata": {},
     "output_type": "execute_result"
    }
   ],
   "source": [
    "mySeriesFromDict"
   ]
  },
  {
   "cell_type": "markdown",
   "id": "ba7aeb53-cef9-480f-9062-24d58b3d6b56",
   "metadata": {},
   "source": [
    "### Obtendo o tamanho de uma Series utilizando a função `len()`"
   ]
  },
  {
   "cell_type": "code",
   "execution_count": 73,
   "id": "510f9717-487d-4800-b852-2c7168b4215a",
   "metadata": {},
   "outputs": [
    {
     "data": {
      "text/plain": [
       "5"
      ]
     },
     "execution_count": 73,
     "metadata": {},
     "output_type": "execute_result"
    }
   ],
   "source": [
    "len(mySeries)"
   ]
  },
  {
   "cell_type": "code",
   "execution_count": 74,
   "id": "1b2035ab-aba4-4ab9-a02b-7b494a7c0fb5",
   "metadata": {},
   "outputs": [],
   "source": [
    "mySeriesWithNameAndIndex = pd.Series([1, 2, 2, 3], index=[\"primeiro\", \"segundo\", \"terceiro\", \"quarto\"], name=\"Lista\")"
   ]
  },
  {
   "cell_type": "code",
   "execution_count": 75,
   "id": "67fc6358-953a-453d-b683-17c9522d3609",
   "metadata": {},
   "outputs": [
    {
     "data": {
      "text/plain": [
       "primeiro    1\n",
       "segundo     2\n",
       "terceiro    2\n",
       "quarto      3\n",
       "Name: Lista, dtype: int64"
      ]
     },
     "execution_count": 75,
     "metadata": {},
     "output_type": "execute_result"
    }
   ],
   "source": [
    "mySeriesWithNameAndIndex"
   ]
  },
  {
   "cell_type": "markdown",
   "id": "bc173510-c6b5-4ab4-84bc-13cb8cc8bff6",
   "metadata": {},
   "source": [
    "### É possível obter um valor da Series através de seu index"
   ]
  },
  {
   "cell_type": "code",
   "execution_count": 76,
   "id": "f0928a74-bf33-4642-83cf-17c08ffd65ab",
   "metadata": {},
   "outputs": [
    {
     "data": {
      "text/plain": [
       "2"
      ]
     },
     "execution_count": 76,
     "metadata": {},
     "output_type": "execute_result"
    }
   ],
   "source": [
    "mySeriesWithNameAndIndex[\"segundo\"]"
   ]
  },
  {
   "cell_type": "code",
   "execution_count": 77,
   "id": "985031f4-f5ad-41e7-b65d-12bcfa7c629c",
   "metadata": {},
   "outputs": [
    {
     "data": {
      "text/plain": [
       "1"
      ]
     },
     "execution_count": 77,
     "metadata": {},
     "output_type": "execute_result"
    }
   ],
   "source": [
    "mySeriesWithNameAndIndex[\"primeiro\"]"
   ]
  },
  {
   "cell_type": "markdown",
   "id": "9f2cfbe5-d1de-4595-9910-35a529125e50",
   "metadata": {
    "tags": []
   },
   "source": [
    "### Indexando valores\n",
    "\n",
    "Podemos indexar valores através de `.loc` e `.iloc`"
   ]
  },
  {
   "cell_type": "markdown",
   "id": "d51ebad6-b174-4fa1-a707-09c376df45c5",
   "metadata": {
    "tags": []
   },
   "source": [
    "#### `.loc` para indexar valores pelo index definido"
   ]
  },
  {
   "cell_type": "code",
   "execution_count": 78,
   "id": "7939d81b-42ad-442c-ae1e-7acb89af2cb1",
   "metadata": {},
   "outputs": [
    {
     "data": {
      "text/plain": [
       "1"
      ]
     },
     "execution_count": 78,
     "metadata": {},
     "output_type": "execute_result"
    }
   ],
   "source": [
    "mySeriesFromDict.loc['primeiro']"
   ]
  },
  {
   "cell_type": "code",
   "execution_count": 79,
   "id": "e132cd3e-9a7b-4ef3-975e-d529c07e3187",
   "metadata": {},
   "outputs": [
    {
     "data": {
      "text/plain": [
       "'Maria'"
      ]
     },
     "execution_count": 79,
     "metadata": {},
     "output_type": "execute_result"
    }
   ],
   "source": [
    "mySeriesFromDict.loc['outra-chave']"
   ]
  },
  {
   "cell_type": "markdown",
   "id": "1a458504-fc1e-4f19-8e15-6a57b00d5e8d",
   "metadata": {},
   "source": [
    "#### `.iloc` para utilizar o indexador numérico de `0` a `length-1`"
   ]
  },
  {
   "cell_type": "code",
   "execution_count": 80,
   "id": "b1d6b3d2-0918-4b25-b494-14d6f2399361",
   "metadata": {},
   "outputs": [
    {
     "data": {
      "text/plain": [
       "1"
      ]
     },
     "execution_count": 80,
     "metadata": {},
     "output_type": "execute_result"
    }
   ],
   "source": [
    "mySeriesFromDict.iloc[0]"
   ]
  },
  {
   "cell_type": "code",
   "execution_count": 20,
   "id": "321c1e20-f903-4689-85dc-47e74d86c6c1",
   "metadata": {},
   "outputs": [
    {
     "data": {
      "text/plain": [
       "'Maria'"
      ]
     },
     "execution_count": 20,
     "metadata": {},
     "output_type": "execute_result"
    }
   ],
   "source": [
    "mySeriesFromDict.iloc[3]"
   ]
  },
  {
   "cell_type": "markdown",
   "id": "07a5aee3-7f27-4882-a06d-ec369cdabd04",
   "metadata": {},
   "source": [
    "### Somando todos o itens de uma Series"
   ]
  },
  {
   "cell_type": "code",
   "execution_count": 81,
   "id": "bb163641-c7af-4775-bf2f-58552a6a9908",
   "metadata": {},
   "outputs": [
    {
     "data": {
      "text/plain": [
       "8"
      ]
     },
     "execution_count": 81,
     "metadata": {},
     "output_type": "execute_result"
    }
   ],
   "source": [
    "mySeriesWithNameAndIndex.sum()"
   ]
  },
  {
   "cell_type": "markdown",
   "id": "ecc18bea-85d7-490e-ab1f-f0a0456bcfe3",
   "metadata": {},
   "source": [
    "### Obtendo média, mediana e moda de uma Series"
   ]
  },
  {
   "cell_type": "code",
   "execution_count": 84,
   "id": "2e4d0eb9-1f54-45d4-b51e-53efdd363831",
   "metadata": {},
   "outputs": [
    {
     "data": {
      "text/plain": [
       "primeiro    1\n",
       "segundo     2\n",
       "terceiro    2\n",
       "quarto      3\n",
       "Name: Lista, dtype: int64"
      ]
     },
     "execution_count": 84,
     "metadata": {},
     "output_type": "execute_result"
    }
   ],
   "source": [
    "mySeriesWithNameAndIndex"
   ]
  },
  {
   "cell_type": "code",
   "execution_count": 85,
   "id": "6050ca72-84a0-484a-9a1f-39db5a4ae725",
   "metadata": {},
   "outputs": [
    {
     "name": "stdout",
     "output_type": "stream",
     "text": [
      "Média: 2.0 - Mediana: 2.0 - Moda: 0    2\n",
      "Name: Lista, dtype: int64\n"
     ]
    }
   ],
   "source": [
    "print(f'Média: {mySeriesWithNameAndIndex.mean()} - Mediana: {mySeriesWithNameAndIndex.median()} - Moda: {mySeriesWithNameAndIndex.mode()}')"
   ]
  },
  {
   "cell_type": "markdown",
   "id": "f1115ac7-1909-4e91-9c6a-cffc08c4b8da",
   "metadata": {
    "tags": []
   },
   "source": [
    "### Convertendo uma pd.Series para uma lista Python"
   ]
  },
  {
   "cell_type": "code",
   "execution_count": 86,
   "id": "c07425f5-46f0-4efb-96ed-4320965b7527",
   "metadata": {},
   "outputs": [
    {
     "data": {
      "text/plain": [
       "[1, 2, 2, 3]"
      ]
     },
     "execution_count": 86,
     "metadata": {},
     "output_type": "execute_result"
    }
   ],
   "source": [
    "mySeriesWithNameAndIndex.to_list()"
   ]
  },
  {
   "cell_type": "markdown",
   "id": "86343ed3-063f-4ab7-b21e-f3f88572f056",
   "metadata": {
    "tags": []
   },
   "source": [
    "### Obtendo valores máximo e mínimo de uma Series"
   ]
  },
  {
   "cell_type": "code",
   "execution_count": 87,
   "id": "f31f52b9-3d53-4809-8ea8-d22c524a442b",
   "metadata": {},
   "outputs": [
    {
     "name": "stdout",
     "output_type": "stream",
     "text": [
      "Max: 3 - Min: 1\n"
     ]
    }
   ],
   "source": [
    "print(f'Max: {mySeriesWithNameAndIndex.max()} - Min: {mySeriesWithNameAndIndex.min()}')"
   ]
  },
  {
   "cell_type": "markdown",
   "id": "c601884a-1987-4a98-8a74-fc16239a6fc0",
   "metadata": {
    "tags": []
   },
   "source": [
    "### Ordenando uma Series"
   ]
  },
  {
   "cell_type": "code",
   "execution_count": 88,
   "id": "308b1384-0e92-4a24-a51b-e714d5356673",
   "metadata": {},
   "outputs": [],
   "source": [
    "mySeries = pd.Series([3, 1, 4, 5, 9, 2, 1, 7, 8, 2, 3, 5, 9])"
   ]
  },
  {
   "cell_type": "code",
   "execution_count": 89,
   "id": "bf43c08b-5ee3-46c3-89d7-ad4d4c0511ad",
   "metadata": {},
   "outputs": [
    {
     "data": {
      "text/plain": [
       "0     3\n",
       "1     1\n",
       "2     4\n",
       "3     5\n",
       "4     9\n",
       "5     2\n",
       "6     1\n",
       "7     7\n",
       "8     8\n",
       "9     2\n",
       "10    3\n",
       "11    5\n",
       "12    9\n",
       "dtype: int64"
      ]
     },
     "execution_count": 89,
     "metadata": {},
     "output_type": "execute_result"
    }
   ],
   "source": [
    "mySeries"
   ]
  },
  {
   "cell_type": "code",
   "execution_count": 95,
   "id": "65966ba5-e39b-4527-a36f-8b4182400d01",
   "metadata": {},
   "outputs": [],
   "source": [
    "mySeries.sort_values(inplace=True)"
   ]
  },
  {
   "cell_type": "code",
   "execution_count": 96,
   "id": "b7d829a7-d77f-4e7a-95ea-5497ef2e039f",
   "metadata": {},
   "outputs": [],
   "source": [
    "mySortedSeries"
   ]
  },
  {
   "cell_type": "code",
   "execution_count": 97,
   "id": "eb484193-0c9b-4bce-93e9-9b16be3e5fd4",
   "metadata": {},
   "outputs": [
    {
     "data": {
      "text/plain": [
       "1     1\n",
       "6     1\n",
       "5     2\n",
       "9     2\n",
       "0     3\n",
       "10    3\n",
       "2     4\n",
       "3     5\n",
       "11    5\n",
       "7     7\n",
       "8     8\n",
       "4     9\n",
       "12    9\n",
       "dtype: int64"
      ]
     },
     "execution_count": 97,
     "metadata": {},
     "output_type": "execute_result"
    }
   ],
   "source": [
    "mySeries"
   ]
  },
  {
   "cell_type": "markdown",
   "id": "cf0e1f25-7e05-4225-97c6-de0907c50e1e",
   "metadata": {
    "tags": []
   },
   "source": [
    "## pd.DataFrame"
   ]
  },
  {
   "cell_type": "markdown",
   "id": "d0480f6c-6d0c-4447-a338-a513321d74eb",
   "metadata": {},
   "source": [
    "Um `pd.DataFrame` pode ser pensado como uma tabela. É basicamente um dicionário de `pd.Series`."
   ]
  },
  {
   "cell_type": "code",
   "execution_count": 98,
   "id": "88b79f8f-f0f2-4144-8431-e6452548980d",
   "metadata": {},
   "outputs": [],
   "source": [
    "myTable = pd.DataFrame({'coluna 1': [1, 2, 3], 'coluna 2': [4, 5, 6], 'coluna 3': [7, 8, 9]})"
   ]
  },
  {
   "cell_type": "code",
   "execution_count": 99,
   "id": "8dc17476-4d78-43aa-ac39-2eb2b8cd881a",
   "metadata": {},
   "outputs": [
    {
     "data": {
      "text/html": [
       "<div>\n",
       "<style scoped>\n",
       "    .dataframe tbody tr th:only-of-type {\n",
       "        vertical-align: middle;\n",
       "    }\n",
       "\n",
       "    .dataframe tbody tr th {\n",
       "        vertical-align: top;\n",
       "    }\n",
       "\n",
       "    .dataframe thead th {\n",
       "        text-align: right;\n",
       "    }\n",
       "</style>\n",
       "<table border=\"1\" class=\"dataframe\">\n",
       "  <thead>\n",
       "    <tr style=\"text-align: right;\">\n",
       "      <th></th>\n",
       "      <th>coluna 1</th>\n",
       "      <th>coluna 2</th>\n",
       "      <th>coluna 3</th>\n",
       "    </tr>\n",
       "  </thead>\n",
       "  <tbody>\n",
       "    <tr>\n",
       "      <th>0</th>\n",
       "      <td>1</td>\n",
       "      <td>4</td>\n",
       "      <td>7</td>\n",
       "    </tr>\n",
       "    <tr>\n",
       "      <th>1</th>\n",
       "      <td>2</td>\n",
       "      <td>5</td>\n",
       "      <td>8</td>\n",
       "    </tr>\n",
       "    <tr>\n",
       "      <th>2</th>\n",
       "      <td>3</td>\n",
       "      <td>6</td>\n",
       "      <td>9</td>\n",
       "    </tr>\n",
       "  </tbody>\n",
       "</table>\n",
       "</div>"
      ],
      "text/plain": [
       "   coluna 1  coluna 2  coluna 3\n",
       "0         1         4         7\n",
       "1         2         5         8\n",
       "2         3         6         9"
      ]
     },
     "execution_count": 99,
     "metadata": {},
     "output_type": "execute_result"
    }
   ],
   "source": [
    "myTable"
   ]
  },
  {
   "cell_type": "markdown",
   "id": "76bccfa9-d952-4d64-a7ba-0a7a0b7cbea6",
   "metadata": {},
   "source": [
    "Cada coluna de um `pd.DataFrame` é uma `pd.Series`, e nós podemos acessá-la assim"
   ]
  },
  {
   "cell_type": "code",
   "execution_count": 100,
   "id": "b703301a-4f4c-4ac4-8507-3563893b3be9",
   "metadata": {},
   "outputs": [
    {
     "data": {
      "text/plain": [
       "0    4\n",
       "1    5\n",
       "2    6\n",
       "Name: coluna 2, dtype: int64"
      ]
     },
     "execution_count": 100,
     "metadata": {},
     "output_type": "execute_result"
    }
   ],
   "source": [
    "myTable['coluna 2']"
   ]
  },
  {
   "cell_type": "code",
   "execution_count": 32,
   "id": "8585b029-42b8-47a1-a271-8cdd2eaf1268",
   "metadata": {},
   "outputs": [
    {
     "data": {
      "text/plain": [
       "pandas.core.series.Series"
      ]
     },
     "execution_count": 32,
     "metadata": {},
     "output_type": "execute_result"
    }
   ],
   "source": [
    "type(myTable['coluna 2'])"
   ]
  },
  {
   "cell_type": "markdown",
   "id": "9f5eeedb-7a69-4ed3-99dd-685be4b48df5",
   "metadata": {},
   "source": [
    "### Indexando"
   ]
  },
  {
   "cell_type": "code",
   "execution_count": 101,
   "id": "8a93a762-40d2-4a6d-8f96-3557dd382626",
   "metadata": {},
   "outputs": [],
   "source": [
    "myTable.index = ['linha 1', 'linha 2', 'linha 3']"
   ]
  },
  {
   "cell_type": "code",
   "execution_count": 103,
   "id": "211ff015-cdb6-4c36-9bb7-1b129df9e304",
   "metadata": {},
   "outputs": [
    {
     "data": {
      "text/html": [
       "<div>\n",
       "<style scoped>\n",
       "    .dataframe tbody tr th:only-of-type {\n",
       "        vertical-align: middle;\n",
       "    }\n",
       "\n",
       "    .dataframe tbody tr th {\n",
       "        vertical-align: top;\n",
       "    }\n",
       "\n",
       "    .dataframe thead th {\n",
       "        text-align: right;\n",
       "    }\n",
       "</style>\n",
       "<table border=\"1\" class=\"dataframe\">\n",
       "  <thead>\n",
       "    <tr style=\"text-align: right;\">\n",
       "      <th></th>\n",
       "      <th>coluna 1</th>\n",
       "      <th>coluna 2</th>\n",
       "      <th>coluna 3</th>\n",
       "    </tr>\n",
       "  </thead>\n",
       "  <tbody>\n",
       "    <tr>\n",
       "      <th>linha 1</th>\n",
       "      <td>1</td>\n",
       "      <td>4</td>\n",
       "      <td>7</td>\n",
       "    </tr>\n",
       "    <tr>\n",
       "      <th>linha 2</th>\n",
       "      <td>2</td>\n",
       "      <td>5</td>\n",
       "      <td>8</td>\n",
       "    </tr>\n",
       "    <tr>\n",
       "      <th>linha 3</th>\n",
       "      <td>3</td>\n",
       "      <td>6</td>\n",
       "      <td>9</td>\n",
       "    </tr>\n",
       "  </tbody>\n",
       "</table>\n",
       "</div>"
      ],
      "text/plain": [
       "         coluna 1  coluna 2  coluna 3\n",
       "linha 1         1         4         7\n",
       "linha 2         2         5         8\n",
       "linha 3         3         6         9"
      ]
     },
     "execution_count": 103,
     "metadata": {},
     "output_type": "execute_result"
    }
   ],
   "source": [
    "myTable"
   ]
  },
  {
   "cell_type": "code",
   "execution_count": 102,
   "id": "84de0224-f6e7-4a65-8835-aae5b8c4e5c5",
   "metadata": {},
   "outputs": [
    {
     "data": {
      "text/plain": [
       "linha 1    1\n",
       "linha 2    2\n",
       "linha 3    3\n",
       "Name: coluna 1, dtype: int64"
      ]
     },
     "execution_count": 102,
     "metadata": {},
     "output_type": "execute_result"
    }
   ],
   "source": [
    "myTable['coluna 1'] # obtém uma coluna"
   ]
  },
  {
   "cell_type": "code",
   "execution_count": 35,
   "id": "3f6fe3c7-c023-4b2a-a2ad-884d8e6e9cfe",
   "metadata": {},
   "outputs": [
    {
     "data": {
      "text/plain": [
       "coluna 1    1\n",
       "coluna 2    4\n",
       "coluna 3    7\n",
       "Name: linha 1, dtype: int64"
      ]
     },
     "execution_count": 35,
     "metadata": {},
     "output_type": "execute_result"
    }
   ],
   "source": [
    "myTable.loc['linha 1'] # obtém uma linha utilizando o índice definido"
   ]
  },
  {
   "cell_type": "code",
   "execution_count": 36,
   "id": "6c96707d-9c3e-4c82-93be-6edf2de465bd",
   "metadata": {},
   "outputs": [
    {
     "data": {
      "text/plain": [
       "coluna 1    1\n",
       "coluna 2    4\n",
       "coluna 3    7\n",
       "Name: linha 1, dtype: int64"
      ]
     },
     "execution_count": 36,
     "metadata": {},
     "output_type": "execute_result"
    }
   ],
   "source": [
    "myTable.iloc[0] # obtém uma linha utilizando o índice numérico"
   ]
  },
  {
   "cell_type": "code",
   "execution_count": 37,
   "id": "7554f1af-357c-44f7-9350-e2071f761352",
   "metadata": {},
   "outputs": [
    {
     "data": {
      "text/html": [
       "<div>\n",
       "<style scoped>\n",
       "    .dataframe tbody tr th:only-of-type {\n",
       "        vertical-align: middle;\n",
       "    }\n",
       "\n",
       "    .dataframe tbody tr th {\n",
       "        vertical-align: top;\n",
       "    }\n",
       "\n",
       "    .dataframe thead th {\n",
       "        text-align: right;\n",
       "    }\n",
       "</style>\n",
       "<table border=\"1\" class=\"dataframe\">\n",
       "  <thead>\n",
       "    <tr style=\"text-align: right;\">\n",
       "      <th></th>\n",
       "      <th>coluna 1</th>\n",
       "      <th>coluna 2</th>\n",
       "      <th>coluna 3</th>\n",
       "    </tr>\n",
       "  </thead>\n",
       "  <tbody>\n",
       "    <tr>\n",
       "      <th>linha 1</th>\n",
       "      <td>1</td>\n",
       "      <td>4</td>\n",
       "      <td>7</td>\n",
       "    </tr>\n",
       "    <tr>\n",
       "      <th>linha 2</th>\n",
       "      <td>2</td>\n",
       "      <td>5</td>\n",
       "      <td>8</td>\n",
       "    </tr>\n",
       "  </tbody>\n",
       "</table>\n",
       "</div>"
      ],
      "text/plain": [
       "         coluna 1  coluna 2  coluna 3\n",
       "linha 1         1         4         7\n",
       "linha 2         2         5         8"
      ]
     },
     "execution_count": 37,
     "metadata": {},
     "output_type": "execute_result"
    }
   ],
   "source": [
    "myTable[0:2] # obtém um DataFrame com uma seleção de linhas"
   ]
  },
  {
   "cell_type": "code",
   "execution_count": 38,
   "id": "a6678444-3c92-49ba-aa81-3e8b9dd6dc70",
   "metadata": {},
   "outputs": [
    {
     "data": {
      "text/html": [
       "<div>\n",
       "<style scoped>\n",
       "    .dataframe tbody tr th:only-of-type {\n",
       "        vertical-align: middle;\n",
       "    }\n",
       "\n",
       "    .dataframe tbody tr th {\n",
       "        vertical-align: top;\n",
       "    }\n",
       "\n",
       "    .dataframe thead th {\n",
       "        text-align: right;\n",
       "    }\n",
       "</style>\n",
       "<table border=\"1\" class=\"dataframe\">\n",
       "  <thead>\n",
       "    <tr style=\"text-align: right;\">\n",
       "      <th></th>\n",
       "      <th>coluna 1</th>\n",
       "      <th>coluna 2</th>\n",
       "      <th>coluna 3</th>\n",
       "    </tr>\n",
       "  </thead>\n",
       "  <tbody>\n",
       "    <tr>\n",
       "      <th>linha 2</th>\n",
       "      <td>2</td>\n",
       "      <td>5</td>\n",
       "      <td>8</td>\n",
       "    </tr>\n",
       "    <tr>\n",
       "      <th>linha 3</th>\n",
       "      <td>3</td>\n",
       "      <td>6</td>\n",
       "      <td>9</td>\n",
       "    </tr>\n",
       "  </tbody>\n",
       "</table>\n",
       "</div>"
      ],
      "text/plain": [
       "         coluna 1  coluna 2  coluna 3\n",
       "linha 2         2         5         8\n",
       "linha 3         3         6         9"
      ]
     },
     "execution_count": 38,
     "metadata": {},
     "output_type": "execute_result"
    }
   ],
   "source": [
    "myTable[[False, True, True]] # obtém um DataFrame com uma seleção de linhas de acordo com uma condição booleana"
   ]
  },
  {
   "cell_type": "code",
   "execution_count": 108,
   "id": "2a8b059f-2b69-430c-a01c-87e67c2b0c98",
   "metadata": {},
   "outputs": [
    {
     "data": {
      "text/html": [
       "<div>\n",
       "<style scoped>\n",
       "    .dataframe tbody tr th:only-of-type {\n",
       "        vertical-align: middle;\n",
       "    }\n",
       "\n",
       "    .dataframe tbody tr th {\n",
       "        vertical-align: top;\n",
       "    }\n",
       "\n",
       "    .dataframe thead th {\n",
       "        text-align: right;\n",
       "    }\n",
       "</style>\n",
       "<table border=\"1\" class=\"dataframe\">\n",
       "  <thead>\n",
       "    <tr style=\"text-align: right;\">\n",
       "      <th></th>\n",
       "      <th>coluna 1</th>\n",
       "      <th>coluna 2</th>\n",
       "      <th>coluna 3</th>\n",
       "    </tr>\n",
       "  </thead>\n",
       "  <tbody>\n",
       "    <tr>\n",
       "      <th>linha 2</th>\n",
       "      <td>2</td>\n",
       "      <td>5</td>\n",
       "      <td>8</td>\n",
       "    </tr>\n",
       "  </tbody>\n",
       "</table>\n",
       "</div>"
      ],
      "text/plain": [
       "         coluna 1  coluna 2  coluna 3\n",
       "linha 2         2         5         8"
      ]
     },
     "execution_count": 108,
     "metadata": {},
     "output_type": "execute_result"
    }
   ],
   "source": [
    "myTable[myTable['coluna 1'] % 2 == 0] # obtém um DataFrame com uma seleção de linhas de acordo com uma condição booleana"
   ]
  },
  {
   "cell_type": "markdown",
   "id": "d454196c-1413-48d1-aa3a-e749aa28822d",
   "metadata": {},
   "source": [
    "### Adicionando novas colunas"
   ]
  },
  {
   "cell_type": "code",
   "execution_count": 113,
   "id": "02f4cb7a-0cd0-4327-a550-937efcd1453d",
   "metadata": {},
   "outputs": [],
   "source": [
    "myTable['nova coluna'] = [10, 11, None]"
   ]
  },
  {
   "cell_type": "code",
   "execution_count": 114,
   "id": "91c5814a-82fe-412c-8982-5110c24a54bc",
   "metadata": {},
   "outputs": [
    {
     "data": {
      "text/html": [
       "<div>\n",
       "<style scoped>\n",
       "    .dataframe tbody tr th:only-of-type {\n",
       "        vertical-align: middle;\n",
       "    }\n",
       "\n",
       "    .dataframe tbody tr th {\n",
       "        vertical-align: top;\n",
       "    }\n",
       "\n",
       "    .dataframe thead th {\n",
       "        text-align: right;\n",
       "    }\n",
       "</style>\n",
       "<table border=\"1\" class=\"dataframe\">\n",
       "  <thead>\n",
       "    <tr style=\"text-align: right;\">\n",
       "      <th></th>\n",
       "      <th>coluna 1</th>\n",
       "      <th>coluna 2</th>\n",
       "      <th>coluna 3</th>\n",
       "      <th>nova coluna</th>\n",
       "    </tr>\n",
       "  </thead>\n",
       "  <tbody>\n",
       "    <tr>\n",
       "      <th>linha 1</th>\n",
       "      <td>1</td>\n",
       "      <td>4</td>\n",
       "      <td>7</td>\n",
       "      <td>10.0</td>\n",
       "    </tr>\n",
       "    <tr>\n",
       "      <th>linha 2</th>\n",
       "      <td>2</td>\n",
       "      <td>5</td>\n",
       "      <td>8</td>\n",
       "      <td>11.0</td>\n",
       "    </tr>\n",
       "    <tr>\n",
       "      <th>linha 3</th>\n",
       "      <td>3</td>\n",
       "      <td>6</td>\n",
       "      <td>9</td>\n",
       "      <td>NaN</td>\n",
       "    </tr>\n",
       "  </tbody>\n",
       "</table>\n",
       "</div>"
      ],
      "text/plain": [
       "         coluna 1  coluna 2  coluna 3  nova coluna\n",
       "linha 1         1         4         7         10.0\n",
       "linha 2         2         5         8         11.0\n",
       "linha 3         3         6         9          NaN"
      ]
     },
     "execution_count": 114,
     "metadata": {},
     "output_type": "execute_result"
    }
   ],
   "source": [
    "myTable"
   ]
  },
  {
   "cell_type": "code",
   "execution_count": 115,
   "id": "6f3c8d75-2a6f-40d9-96a4-9328baa56e4f",
   "metadata": {},
   "outputs": [],
   "source": [
    "myTable['coluna 1 é par?'] = myTable['coluna 1'] % 2 == 0"
   ]
  },
  {
   "cell_type": "code",
   "execution_count": 116,
   "id": "6f18976f-e5c4-4d06-ab22-3036ccbbab7e",
   "metadata": {},
   "outputs": [
    {
     "data": {
      "text/html": [
       "<div>\n",
       "<style scoped>\n",
       "    .dataframe tbody tr th:only-of-type {\n",
       "        vertical-align: middle;\n",
       "    }\n",
       "\n",
       "    .dataframe tbody tr th {\n",
       "        vertical-align: top;\n",
       "    }\n",
       "\n",
       "    .dataframe thead th {\n",
       "        text-align: right;\n",
       "    }\n",
       "</style>\n",
       "<table border=\"1\" class=\"dataframe\">\n",
       "  <thead>\n",
       "    <tr style=\"text-align: right;\">\n",
       "      <th></th>\n",
       "      <th>coluna 1</th>\n",
       "      <th>coluna 2</th>\n",
       "      <th>coluna 3</th>\n",
       "      <th>nova coluna</th>\n",
       "      <th>coluna 1 é par?</th>\n",
       "    </tr>\n",
       "  </thead>\n",
       "  <tbody>\n",
       "    <tr>\n",
       "      <th>linha 1</th>\n",
       "      <td>1</td>\n",
       "      <td>4</td>\n",
       "      <td>7</td>\n",
       "      <td>10.0</td>\n",
       "      <td>False</td>\n",
       "    </tr>\n",
       "    <tr>\n",
       "      <th>linha 2</th>\n",
       "      <td>2</td>\n",
       "      <td>5</td>\n",
       "      <td>8</td>\n",
       "      <td>11.0</td>\n",
       "      <td>True</td>\n",
       "    </tr>\n",
       "    <tr>\n",
       "      <th>linha 3</th>\n",
       "      <td>3</td>\n",
       "      <td>6</td>\n",
       "      <td>9</td>\n",
       "      <td>NaN</td>\n",
       "      <td>False</td>\n",
       "    </tr>\n",
       "  </tbody>\n",
       "</table>\n",
       "</div>"
      ],
      "text/plain": [
       "         coluna 1  coluna 2  coluna 3  nova coluna  coluna 1 é par?\n",
       "linha 1         1         4         7         10.0            False\n",
       "linha 2         2         5         8         11.0             True\n",
       "linha 3         3         6         9          NaN            False"
      ]
     },
     "execution_count": 116,
     "metadata": {},
     "output_type": "execute_result"
    }
   ],
   "source": [
    "myTable"
   ]
  },
  {
   "cell_type": "code",
   "execution_count": 117,
   "id": "e7cd3625-721b-462d-85fa-e15a4280565f",
   "metadata": {},
   "outputs": [],
   "source": [
    "myTable['coluna 1 + coluna 3'] = myTable['coluna 1'] + myTable['coluna 3']"
   ]
  },
  {
   "cell_type": "code",
   "execution_count": 118,
   "id": "8cb50ad0-dedd-4d3b-8405-12320e7af31b",
   "metadata": {},
   "outputs": [
    {
     "data": {
      "text/html": [
       "<div>\n",
       "<style scoped>\n",
       "    .dataframe tbody tr th:only-of-type {\n",
       "        vertical-align: middle;\n",
       "    }\n",
       "\n",
       "    .dataframe tbody tr th {\n",
       "        vertical-align: top;\n",
       "    }\n",
       "\n",
       "    .dataframe thead th {\n",
       "        text-align: right;\n",
       "    }\n",
       "</style>\n",
       "<table border=\"1\" class=\"dataframe\">\n",
       "  <thead>\n",
       "    <tr style=\"text-align: right;\">\n",
       "      <th></th>\n",
       "      <th>coluna 1</th>\n",
       "      <th>coluna 2</th>\n",
       "      <th>coluna 3</th>\n",
       "      <th>nova coluna</th>\n",
       "      <th>coluna 1 é par?</th>\n",
       "      <th>coluna 1 + coluna 3</th>\n",
       "    </tr>\n",
       "  </thead>\n",
       "  <tbody>\n",
       "    <tr>\n",
       "      <th>linha 1</th>\n",
       "      <td>1</td>\n",
       "      <td>4</td>\n",
       "      <td>7</td>\n",
       "      <td>10.0</td>\n",
       "      <td>False</td>\n",
       "      <td>8</td>\n",
       "    </tr>\n",
       "    <tr>\n",
       "      <th>linha 2</th>\n",
       "      <td>2</td>\n",
       "      <td>5</td>\n",
       "      <td>8</td>\n",
       "      <td>11.0</td>\n",
       "      <td>True</td>\n",
       "      <td>10</td>\n",
       "    </tr>\n",
       "    <tr>\n",
       "      <th>linha 3</th>\n",
       "      <td>3</td>\n",
       "      <td>6</td>\n",
       "      <td>9</td>\n",
       "      <td>NaN</td>\n",
       "      <td>False</td>\n",
       "      <td>12</td>\n",
       "    </tr>\n",
       "  </tbody>\n",
       "</table>\n",
       "</div>"
      ],
      "text/plain": [
       "         coluna 1  coluna 2  coluna 3  nova coluna  coluna 1 é par?  \\\n",
       "linha 1         1         4         7         10.0            False   \n",
       "linha 2         2         5         8         11.0             True   \n",
       "linha 3         3         6         9          NaN            False   \n",
       "\n",
       "         coluna 1 + coluna 3  \n",
       "linha 1                    8  \n",
       "linha 2                   10  \n",
       "linha 3                   12  "
      ]
     },
     "execution_count": 118,
     "metadata": {},
     "output_type": "execute_result"
    }
   ],
   "source": [
    "myTable"
   ]
  },
  {
   "cell_type": "markdown",
   "id": "835508e3-6630-4f24-86e2-af309d36781f",
   "metadata": {},
   "source": [
    "### Filtrando dados"
   ]
  },
  {
   "cell_type": "code",
   "execution_count": 119,
   "id": "4fb65a44-4d48-4ea8-b8e3-28c4803af9b1",
   "metadata": {},
   "outputs": [
    {
     "data": {
      "text/html": [
       "<div>\n",
       "<style scoped>\n",
       "    .dataframe tbody tr th:only-of-type {\n",
       "        vertical-align: middle;\n",
       "    }\n",
       "\n",
       "    .dataframe tbody tr th {\n",
       "        vertical-align: top;\n",
       "    }\n",
       "\n",
       "    .dataframe thead th {\n",
       "        text-align: right;\n",
       "    }\n",
       "</style>\n",
       "<table border=\"1\" class=\"dataframe\">\n",
       "  <thead>\n",
       "    <tr style=\"text-align: right;\">\n",
       "      <th></th>\n",
       "      <th>coluna 1</th>\n",
       "      <th>coluna 2</th>\n",
       "      <th>coluna 3</th>\n",
       "      <th>nova coluna</th>\n",
       "      <th>coluna 1 é par?</th>\n",
       "      <th>coluna 1 + coluna 3</th>\n",
       "    </tr>\n",
       "  </thead>\n",
       "  <tbody>\n",
       "    <tr>\n",
       "      <th>linha 2</th>\n",
       "      <td>2</td>\n",
       "      <td>5</td>\n",
       "      <td>8</td>\n",
       "      <td>11.0</td>\n",
       "      <td>True</td>\n",
       "      <td>10</td>\n",
       "    </tr>\n",
       "    <tr>\n",
       "      <th>linha 3</th>\n",
       "      <td>3</td>\n",
       "      <td>6</td>\n",
       "      <td>9</td>\n",
       "      <td>NaN</td>\n",
       "      <td>False</td>\n",
       "      <td>12</td>\n",
       "    </tr>\n",
       "  </tbody>\n",
       "</table>\n",
       "</div>"
      ],
      "text/plain": [
       "         coluna 1  coluna 2  coluna 3  nova coluna  coluna 1 é par?  \\\n",
       "linha 2         2         5         8         11.0             True   \n",
       "linha 3         3         6         9          NaN            False   \n",
       "\n",
       "         coluna 1 + coluna 3  \n",
       "linha 2                   10  \n",
       "linha 3                   12  "
      ]
     },
     "execution_count": 119,
     "metadata": {},
     "output_type": "execute_result"
    }
   ],
   "source": [
    "myTable[myTable['coluna 1'] >= 2]"
   ]
  },
  {
   "cell_type": "code",
   "execution_count": 120,
   "id": "21ba1e25-4c9f-43da-83f5-3d2e11b1f5a2",
   "metadata": {},
   "outputs": [
    {
     "data": {
      "text/html": [
       "<div>\n",
       "<style scoped>\n",
       "    .dataframe tbody tr th:only-of-type {\n",
       "        vertical-align: middle;\n",
       "    }\n",
       "\n",
       "    .dataframe tbody tr th {\n",
       "        vertical-align: top;\n",
       "    }\n",
       "\n",
       "    .dataframe thead th {\n",
       "        text-align: right;\n",
       "    }\n",
       "</style>\n",
       "<table border=\"1\" class=\"dataframe\">\n",
       "  <thead>\n",
       "    <tr style=\"text-align: right;\">\n",
       "      <th></th>\n",
       "      <th>coluna 1</th>\n",
       "      <th>coluna 2</th>\n",
       "      <th>coluna 3</th>\n",
       "      <th>nova coluna</th>\n",
       "      <th>coluna 1 é par?</th>\n",
       "      <th>coluna 1 + coluna 3</th>\n",
       "    </tr>\n",
       "  </thead>\n",
       "  <tbody>\n",
       "    <tr>\n",
       "      <th>linha 2</th>\n",
       "      <td>2</td>\n",
       "      <td>5</td>\n",
       "      <td>8</td>\n",
       "      <td>11.0</td>\n",
       "      <td>True</td>\n",
       "      <td>10</td>\n",
       "    </tr>\n",
       "  </tbody>\n",
       "</table>\n",
       "</div>"
      ],
      "text/plain": [
       "         coluna 1  coluna 2  coluna 3  nova coluna  coluna 1 é par?  \\\n",
       "linha 2         2         5         8         11.0             True   \n",
       "\n",
       "         coluna 1 + coluna 3  \n",
       "linha 2                   10  "
      ]
     },
     "execution_count": 120,
     "metadata": {},
     "output_type": "execute_result"
    }
   ],
   "source": [
    "myTable[myTable['coluna 1 é par?']]"
   ]
  },
  {
   "cell_type": "markdown",
   "id": "efb62e5a-e452-4721-a7b8-a98d091c0271",
   "metadata": {},
   "source": [
    "### Transpondo a tabela (linhas viram colunas, colunas viram linhas)"
   ]
  },
  {
   "cell_type": "code",
   "execution_count": 121,
   "id": "073f349e-216b-4174-b904-87a2bdc31239",
   "metadata": {},
   "outputs": [
    {
     "data": {
      "text/html": [
       "<div>\n",
       "<style scoped>\n",
       "    .dataframe tbody tr th:only-of-type {\n",
       "        vertical-align: middle;\n",
       "    }\n",
       "\n",
       "    .dataframe tbody tr th {\n",
       "        vertical-align: top;\n",
       "    }\n",
       "\n",
       "    .dataframe thead th {\n",
       "        text-align: right;\n",
       "    }\n",
       "</style>\n",
       "<table border=\"1\" class=\"dataframe\">\n",
       "  <thead>\n",
       "    <tr style=\"text-align: right;\">\n",
       "      <th></th>\n",
       "      <th>linha 1</th>\n",
       "      <th>linha 2</th>\n",
       "      <th>linha 3</th>\n",
       "    </tr>\n",
       "  </thead>\n",
       "  <tbody>\n",
       "    <tr>\n",
       "      <th>coluna 1</th>\n",
       "      <td>1</td>\n",
       "      <td>2</td>\n",
       "      <td>3</td>\n",
       "    </tr>\n",
       "    <tr>\n",
       "      <th>coluna 2</th>\n",
       "      <td>4</td>\n",
       "      <td>5</td>\n",
       "      <td>6</td>\n",
       "    </tr>\n",
       "    <tr>\n",
       "      <th>coluna 3</th>\n",
       "      <td>7</td>\n",
       "      <td>8</td>\n",
       "      <td>9</td>\n",
       "    </tr>\n",
       "    <tr>\n",
       "      <th>nova coluna</th>\n",
       "      <td>10.0</td>\n",
       "      <td>11.0</td>\n",
       "      <td>NaN</td>\n",
       "    </tr>\n",
       "    <tr>\n",
       "      <th>coluna 1 é par?</th>\n",
       "      <td>False</td>\n",
       "      <td>True</td>\n",
       "      <td>False</td>\n",
       "    </tr>\n",
       "    <tr>\n",
       "      <th>coluna 1 + coluna 3</th>\n",
       "      <td>8</td>\n",
       "      <td>10</td>\n",
       "      <td>12</td>\n",
       "    </tr>\n",
       "  </tbody>\n",
       "</table>\n",
       "</div>"
      ],
      "text/plain": [
       "                    linha 1 linha 2 linha 3\n",
       "coluna 1                  1       2       3\n",
       "coluna 2                  4       5       6\n",
       "coluna 3                  7       8       9\n",
       "nova coluna            10.0    11.0     NaN\n",
       "coluna 1 é par?       False    True   False\n",
       "coluna 1 + coluna 3       8      10      12"
      ]
     },
     "execution_count": 121,
     "metadata": {},
     "output_type": "execute_result"
    }
   ],
   "source": [
    "myTable.T"
   ]
  },
  {
   "cell_type": "markdown",
   "id": "548e034e-ed49-49e5-bc77-2e983b128320",
   "metadata": {},
   "source": [
    "## Exemplos de datasets"
   ]
  },
  {
   "cell_type": "code",
   "execution_count": 49,
   "id": "2b3f9e78-6df7-4274-a922-4189f62a9a7d",
   "metadata": {},
   "outputs": [],
   "source": [
    "from sklearn import datasets"
   ]
  },
  {
   "cell_type": "code",
   "execution_count": 50,
   "id": "14fc54b4-94d8-49ee-bfa2-5a1a28cd3c04",
   "metadata": {},
   "outputs": [],
   "source": [
    "iris = datasets.load_iris()"
   ]
  },
  {
   "cell_type": "code",
   "execution_count": 51,
   "id": "3e1003d9-c3d9-4fec-a65f-725296274144",
   "metadata": {},
   "outputs": [],
   "source": [
    "irisDF = pd.DataFrame(iris.data, columns=iris.feature_names)"
   ]
  },
  {
   "cell_type": "code",
   "execution_count": 52,
   "id": "1d21295c-9d1f-4c1d-8725-f5e6949b9c5f",
   "metadata": {},
   "outputs": [
    {
     "data": {
      "text/html": [
       "<div>\n",
       "<style scoped>\n",
       "    .dataframe tbody tr th:only-of-type {\n",
       "        vertical-align: middle;\n",
       "    }\n",
       "\n",
       "    .dataframe tbody tr th {\n",
       "        vertical-align: top;\n",
       "    }\n",
       "\n",
       "    .dataframe thead th {\n",
       "        text-align: right;\n",
       "    }\n",
       "</style>\n",
       "<table border=\"1\" class=\"dataframe\">\n",
       "  <thead>\n",
       "    <tr style=\"text-align: right;\">\n",
       "      <th></th>\n",
       "      <th>sepal length (cm)</th>\n",
       "      <th>sepal width (cm)</th>\n",
       "      <th>petal length (cm)</th>\n",
       "      <th>petal width (cm)</th>\n",
       "    </tr>\n",
       "  </thead>\n",
       "  <tbody>\n",
       "    <tr>\n",
       "      <th>0</th>\n",
       "      <td>5.1</td>\n",
       "      <td>3.5</td>\n",
       "      <td>1.4</td>\n",
       "      <td>0.2</td>\n",
       "    </tr>\n",
       "    <tr>\n",
       "      <th>1</th>\n",
       "      <td>4.9</td>\n",
       "      <td>3.0</td>\n",
       "      <td>1.4</td>\n",
       "      <td>0.2</td>\n",
       "    </tr>\n",
       "    <tr>\n",
       "      <th>2</th>\n",
       "      <td>4.7</td>\n",
       "      <td>3.2</td>\n",
       "      <td>1.3</td>\n",
       "      <td>0.2</td>\n",
       "    </tr>\n",
       "    <tr>\n",
       "      <th>3</th>\n",
       "      <td>4.6</td>\n",
       "      <td>3.1</td>\n",
       "      <td>1.5</td>\n",
       "      <td>0.2</td>\n",
       "    </tr>\n",
       "    <tr>\n",
       "      <th>4</th>\n",
       "      <td>5.0</td>\n",
       "      <td>3.6</td>\n",
       "      <td>1.4</td>\n",
       "      <td>0.2</td>\n",
       "    </tr>\n",
       "    <tr>\n",
       "      <th>...</th>\n",
       "      <td>...</td>\n",
       "      <td>...</td>\n",
       "      <td>...</td>\n",
       "      <td>...</td>\n",
       "    </tr>\n",
       "    <tr>\n",
       "      <th>145</th>\n",
       "      <td>6.7</td>\n",
       "      <td>3.0</td>\n",
       "      <td>5.2</td>\n",
       "      <td>2.3</td>\n",
       "    </tr>\n",
       "    <tr>\n",
       "      <th>146</th>\n",
       "      <td>6.3</td>\n",
       "      <td>2.5</td>\n",
       "      <td>5.0</td>\n",
       "      <td>1.9</td>\n",
       "    </tr>\n",
       "    <tr>\n",
       "      <th>147</th>\n",
       "      <td>6.5</td>\n",
       "      <td>3.0</td>\n",
       "      <td>5.2</td>\n",
       "      <td>2.0</td>\n",
       "    </tr>\n",
       "    <tr>\n",
       "      <th>148</th>\n",
       "      <td>6.2</td>\n",
       "      <td>3.4</td>\n",
       "      <td>5.4</td>\n",
       "      <td>2.3</td>\n",
       "    </tr>\n",
       "    <tr>\n",
       "      <th>149</th>\n",
       "      <td>5.9</td>\n",
       "      <td>3.0</td>\n",
       "      <td>5.1</td>\n",
       "      <td>1.8</td>\n",
       "    </tr>\n",
       "  </tbody>\n",
       "</table>\n",
       "<p>150 rows × 4 columns</p>\n",
       "</div>"
      ],
      "text/plain": [
       "     sepal length (cm)  sepal width (cm)  petal length (cm)  petal width (cm)\n",
       "0                  5.1               3.5                1.4               0.2\n",
       "1                  4.9               3.0                1.4               0.2\n",
       "2                  4.7               3.2                1.3               0.2\n",
       "3                  4.6               3.1                1.5               0.2\n",
       "4                  5.0               3.6                1.4               0.2\n",
       "..                 ...               ...                ...               ...\n",
       "145                6.7               3.0                5.2               2.3\n",
       "146                6.3               2.5                5.0               1.9\n",
       "147                6.5               3.0                5.2               2.0\n",
       "148                6.2               3.4                5.4               2.3\n",
       "149                5.9               3.0                5.1               1.8\n",
       "\n",
       "[150 rows x 4 columns]"
      ]
     },
     "execution_count": 52,
     "metadata": {},
     "output_type": "execute_result"
    }
   ],
   "source": [
    "irisDF"
   ]
  },
  {
   "cell_type": "code",
   "execution_count": 53,
   "id": "f7c800ed-35de-445a-b388-3036a9a7b374",
   "metadata": {},
   "outputs": [],
   "source": [
    "target_names = {\n",
    "    0:'setosa',\n",
    "    1:'versicolor', \n",
    "    2:'virginica'\n",
    "}"
   ]
  },
  {
   "cell_type": "code",
   "execution_count": 54,
   "id": "c622ce32-5400-4105-b334-83cc2e62fbeb",
   "metadata": {},
   "outputs": [],
   "source": [
    "irisDF['target'] = iris.target\n",
    "irisDF['target_name'] = irisDF['target'].map(target_names)"
   ]
  },
  {
   "cell_type": "code",
   "execution_count": 55,
   "id": "ab9cf94b-3214-4383-91da-9fa17bf16635",
   "metadata": {},
   "outputs": [
    {
     "data": {
      "text/html": [
       "<div>\n",
       "<style scoped>\n",
       "    .dataframe tbody tr th:only-of-type {\n",
       "        vertical-align: middle;\n",
       "    }\n",
       "\n",
       "    .dataframe tbody tr th {\n",
       "        vertical-align: top;\n",
       "    }\n",
       "\n",
       "    .dataframe thead th {\n",
       "        text-align: right;\n",
       "    }\n",
       "</style>\n",
       "<table border=\"1\" class=\"dataframe\">\n",
       "  <thead>\n",
       "    <tr style=\"text-align: right;\">\n",
       "      <th></th>\n",
       "      <th>sepal length (cm)</th>\n",
       "      <th>sepal width (cm)</th>\n",
       "      <th>petal length (cm)</th>\n",
       "      <th>petal width (cm)</th>\n",
       "      <th>target</th>\n",
       "      <th>target_name</th>\n",
       "    </tr>\n",
       "  </thead>\n",
       "  <tbody>\n",
       "    <tr>\n",
       "      <th>0</th>\n",
       "      <td>5.1</td>\n",
       "      <td>3.5</td>\n",
       "      <td>1.4</td>\n",
       "      <td>0.2</td>\n",
       "      <td>0</td>\n",
       "      <td>setosa</td>\n",
       "    </tr>\n",
       "    <tr>\n",
       "      <th>1</th>\n",
       "      <td>4.9</td>\n",
       "      <td>3.0</td>\n",
       "      <td>1.4</td>\n",
       "      <td>0.2</td>\n",
       "      <td>0</td>\n",
       "      <td>setosa</td>\n",
       "    </tr>\n",
       "    <tr>\n",
       "      <th>2</th>\n",
       "      <td>4.7</td>\n",
       "      <td>3.2</td>\n",
       "      <td>1.3</td>\n",
       "      <td>0.2</td>\n",
       "      <td>0</td>\n",
       "      <td>setosa</td>\n",
       "    </tr>\n",
       "    <tr>\n",
       "      <th>3</th>\n",
       "      <td>4.6</td>\n",
       "      <td>3.1</td>\n",
       "      <td>1.5</td>\n",
       "      <td>0.2</td>\n",
       "      <td>0</td>\n",
       "      <td>setosa</td>\n",
       "    </tr>\n",
       "    <tr>\n",
       "      <th>4</th>\n",
       "      <td>5.0</td>\n",
       "      <td>3.6</td>\n",
       "      <td>1.4</td>\n",
       "      <td>0.2</td>\n",
       "      <td>0</td>\n",
       "      <td>setosa</td>\n",
       "    </tr>\n",
       "    <tr>\n",
       "      <th>...</th>\n",
       "      <td>...</td>\n",
       "      <td>...</td>\n",
       "      <td>...</td>\n",
       "      <td>...</td>\n",
       "      <td>...</td>\n",
       "      <td>...</td>\n",
       "    </tr>\n",
       "    <tr>\n",
       "      <th>145</th>\n",
       "      <td>6.7</td>\n",
       "      <td>3.0</td>\n",
       "      <td>5.2</td>\n",
       "      <td>2.3</td>\n",
       "      <td>2</td>\n",
       "      <td>virginica</td>\n",
       "    </tr>\n",
       "    <tr>\n",
       "      <th>146</th>\n",
       "      <td>6.3</td>\n",
       "      <td>2.5</td>\n",
       "      <td>5.0</td>\n",
       "      <td>1.9</td>\n",
       "      <td>2</td>\n",
       "      <td>virginica</td>\n",
       "    </tr>\n",
       "    <tr>\n",
       "      <th>147</th>\n",
       "      <td>6.5</td>\n",
       "      <td>3.0</td>\n",
       "      <td>5.2</td>\n",
       "      <td>2.0</td>\n",
       "      <td>2</td>\n",
       "      <td>virginica</td>\n",
       "    </tr>\n",
       "    <tr>\n",
       "      <th>148</th>\n",
       "      <td>6.2</td>\n",
       "      <td>3.4</td>\n",
       "      <td>5.4</td>\n",
       "      <td>2.3</td>\n",
       "      <td>2</td>\n",
       "      <td>virginica</td>\n",
       "    </tr>\n",
       "    <tr>\n",
       "      <th>149</th>\n",
       "      <td>5.9</td>\n",
       "      <td>3.0</td>\n",
       "      <td>5.1</td>\n",
       "      <td>1.8</td>\n",
       "      <td>2</td>\n",
       "      <td>virginica</td>\n",
       "    </tr>\n",
       "  </tbody>\n",
       "</table>\n",
       "<p>150 rows × 6 columns</p>\n",
       "</div>"
      ],
      "text/plain": [
       "     sepal length (cm)  sepal width (cm)  petal length (cm)  petal width (cm)  \\\n",
       "0                  5.1               3.5                1.4               0.2   \n",
       "1                  4.9               3.0                1.4               0.2   \n",
       "2                  4.7               3.2                1.3               0.2   \n",
       "3                  4.6               3.1                1.5               0.2   \n",
       "4                  5.0               3.6                1.4               0.2   \n",
       "..                 ...               ...                ...               ...   \n",
       "145                6.7               3.0                5.2               2.3   \n",
       "146                6.3               2.5                5.0               1.9   \n",
       "147                6.5               3.0                5.2               2.0   \n",
       "148                6.2               3.4                5.4               2.3   \n",
       "149                5.9               3.0                5.1               1.8   \n",
       "\n",
       "     target target_name  \n",
       "0         0      setosa  \n",
       "1         0      setosa  \n",
       "2         0      setosa  \n",
       "3         0      setosa  \n",
       "4         0      setosa  \n",
       "..      ...         ...  \n",
       "145       2   virginica  \n",
       "146       2   virginica  \n",
       "147       2   virginica  \n",
       "148       2   virginica  \n",
       "149       2   virginica  \n",
       "\n",
       "[150 rows x 6 columns]"
      ]
     },
     "execution_count": 55,
     "metadata": {},
     "output_type": "execute_result"
    }
   ],
   "source": [
    "irisDF"
   ]
  },
  {
   "cell_type": "code",
   "execution_count": 56,
   "id": "1fb40f43-befb-4943-994d-ea4a7db1ccc0",
   "metadata": {},
   "outputs": [
    {
     "data": {
      "text/plain": [
       "array(['setosa', 'versicolor', 'virginica'], dtype='<U10')"
      ]
     },
     "execution_count": 56,
     "metadata": {},
     "output_type": "execute_result"
    }
   ],
   "source": [
    "iris.target_names"
   ]
  },
  {
   "cell_type": "code",
   "execution_count": 59,
   "id": "80d419a4-fd76-46fe-8cd3-c60976e07643",
   "metadata": {},
   "outputs": [
    {
     "data": {
      "text/plain": [
       "<Axes: xlabel='petal length (cm)', ylabel='sepal length (cm)'>"
      ]
     },
     "execution_count": 59,
     "metadata": {},
     "output_type": "execute_result"
    },
    {
     "data": {
      "image/png": "[encoded data removed]",
      "text/plain": [
       "<Figure size 640x480 with 1 Axes>"
      ]
     },
     "metadata": {},
     "output_type": "display_data"
    }
   ],
   "source": [
    "irisDF.plot(kind='scatter', x='petal length (cm)', y='sepal length (cm)')"
   ]
  }
 ],
 "metadata": {
  "kernelspec": {
   "display_name": "Python 3 (ipykernel)",
   "language": "python",
   "name": "python3"
  },
  "language_info": {
   "codemirror_mode": {
    "name": "ipython",
    "version": 3
   },
   "file_extension": ".py",
   "mimetype": "text/x-python",
   "name": "python",
   "nbconvert_exporter": "python",
   "pygments_lexer": "ipython3",
   "version": "3.9.13"
  }
 },
 "nbformat": 4,
 "nbformat_minor": 5
}
