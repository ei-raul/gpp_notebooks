{
 "cells": [
  {
   "cell_type": "markdown",
   "id": "4e2f6e46-feb8-41fc-9965-9b5f222dbf67",
   "metadata": {},
   "source": [
    "# Estatística Básica"
   ]
  },
  {
   "cell_type": "markdown",
   "id": "b0033cd8-ce1b-4efa-9ddc-3d686996c5c8",
   "metadata": {
    "jp-MarkdownHeadingCollapsed": true,
    "tags": []
   },
   "source": [
    "## Definições básicas\n",
    "\n",
    "**População** é o conjunto de elementos que têm pelo menos uma característica em comum.\n",
    "\n",
    "**Amostra** é um subconjunto de elementos representativos de uma população.\n",
    "\n",
    "**Variável** é a característica de um elemento que vai ser observada, medida ou contada nos elementos da população ou da amostra e que pode variar de elemento para elemento.\n",
    "\n",
    "- **quantitativa:** variáveis numéricas que expressam uma quantidade.\n",
    "    - **discreta:** número inteiro ou pertencente a um conjunto finito enumerável;\n",
    "    - **contínua:** números em intervalos da reta real, resultantes de mensurações.\n",
    "    \n",
    "- **qualitativa:** variáveis cujos valores determinam atributos ou qualidades.\n",
    "    - **nominal:** não apresentam ordem natural de ocorrência dos valores;\n",
    "    - **ordinal:** os valores apresentam uma ordem natural de ocorrência."
   ]
  },
  {
   "cell_type": "code",
   "execution_count": 6,
   "id": "78a1169b-2a17-4271-bc15-b905ce33d3e1",
   "metadata": {},
   "outputs": [],
   "source": [
    "lista_de_idades = [12, 13, 21, 8, 9, 20] #variável quantitativa discreta"
   ]
  },
  {
   "cell_type": "code",
   "execution_count": 7,
   "id": "74c41db9-a494-4a2b-a8b2-f1e5176a8e2a",
   "metadata": {},
   "outputs": [],
   "source": [
    "lista_de_alturas = [1.75, 1.60, 1.82, 1.9] #variável quantitativa contínua"
   ]
  },
  {
   "cell_type": "code",
   "execution_count": 9,
   "id": "6bb6fdea-5486-4512-aedd-55ac7d1caaac",
   "metadata": {},
   "outputs": [],
   "source": [
    "lista_de_cursos = [\n",
    "    'Sistemas de Informação',\n",
    "    'Engenharia de Software',\n",
    "    'Jornalismo',\n",
    "    'Medicina'\n",
    "] # variável categórica nominal (não há uma ordem natural entre os valores)"
   ]
  },
  {
   "cell_type": "code",
   "execution_count": 10,
   "id": "f1d14dd9-cf87-4b61-8a5c-86d3a62e797e",
   "metadata": {},
   "outputs": [],
   "source": [
    "lista_de_tamanhos = [\n",
    "    'Extra pequeno',\n",
    "    'Pequeno',\n",
    "    'Médio',\n",
    "    'Grande',\n",
    "    'Extra grande'\n",
    "] # variável categórica ordinal (há uma ordem natural entre os valores)"
   ]
  },
  {
   "cell_type": "markdown",
   "id": "81f1bc31-3518-423d-b595-167ac70b067f",
   "metadata": {
    "tags": []
   },
   "source": [
    "## Distribuição de frequência\n",
    "\n",
    "### Distribuição de frequência pontual (sem perda de informação)\n",
    "\n",
    "**Amplitude total:** é a diferença entre o maior e o menor elemento de um conjunto. \n",
    "$$AT = x_{max} - x_{min}$$\n",
    "\n",
    "**Frequência relativa:** $f_i = \\frac{F_i}{n}$, onde n é o tamanho da amostra e $F_i$ é a frequência absoluta, ou seja, o número de vezes que o valor aparece na amostra. A soma total de $f_i$ resulta em 1.\n",
    "\n",
    "**Frequência relativa em percentual:** $f_{i\\%} = \\frac{F_i}{n} \\cdot 100$. A soma total de $f_{i\\%}$ resulta em 100%."
   ]
  },
  {
   "cell_type": "code",
   "execution_count": 11,
   "id": "243ac41f-fa7d-4547-9d59-654ca59c9e75",
   "metadata": {},
   "outputs": [],
   "source": [
    "def amplitude_total(lista):\n",
    "    return max(lista) - min(lista)"
   ]
  },
  {
   "cell_type": "code",
   "execution_count": 13,
   "id": "44d0a906-9b88-486f-9386-2ddf36850fe4",
   "metadata": {},
   "outputs": [],
   "source": [
    "def frequencia_relativa(lista, elemento):\n",
    "    count  = 0\n",
    "    for n in lista:\n",
    "        if n == elemento:\n",
    "            count += 1\n",
    "    return count / len(lista)"
   ]
  },
  {
   "cell_type": "code",
   "execution_count": 14,
   "id": "f1c6122c-b0be-4820-b42f-bea740ba5e9e",
   "metadata": {},
   "outputs": [],
   "source": [
    "def frequencia_relativa_por_cem(lista, elemento):\n",
    "    return frequencia_relativa(lista, elemento) * 100"
   ]
  },
  {
   "cell_type": "markdown",
   "id": "9a023fe5-7cb0-4593-8d12-6b8b674f040b",
   "metadata": {},
   "source": [
    "## Medidas descritivas\n",
    "\n",
    "**Média aritmética:** seja $(x_1, x_2, \\dots, x_n)$ um conjunto de dados. A média aritmética é dada por: \n",
    "$\\mu = \\frac{\\sum\\limits_{i=0}^{N}x_i}{N}$, ou $\\bar{X} = \\frac{\\sum\\limits_{i=0}^{n}x_i}{n}$, para uma população ou uma amostra, respectivamente. \n",
    "\n",
    "*Características da média aritmética:*\n",
    "- depente de todas as observações;\n",
    "- é única em um conjunto de dados e nem sempre tem existência real;\n",
    "- é afetada por valores extremos;\n",
    "- sofre com alteração em qualquer valor do conjunto de dados;\n",
    "- a soma dos desvios é sempre zero: $\\sum(x_i - \\bar{X}) = 0$.\n",
    "\n",
    "**Moda:** é o valor que apresenta maior frequência da variável dentre os valores observados.\n",
    "$$M_o = l_i + \\frac{h \\cdot (F_i - F_{i-1})}{(F_i - F_{i-1}) + (F_i - F_i+1)}$$, onde:\n",
    "\n",
    "- $i$ é a ordem da classe modal;\n",
    "- $l_i$ é o limite inferior da classe modal;\n",
    "- $h$ é a amplitude da classe modal;\n",
    "- $F_i$ é a frequência absoluta da classe modal;\n",
    "- $F_{i-1}$ é a frequência absoluta da classe anterior à modal; e\n",
    "- $F_{i+1}$ é a frequência absoluta da classe posterior à modal.\n",
    "\n",
    "**Mediana:** é o valor que ocupa a posição central de um conjunto de observações. Ordenando-se os valores, a quantidade de elementos com inferiores à mediana é igual à quantidade de elementos superiores à mediana."
   ]
  },
  {
   "cell_type": "code",
   "execution_count": 15,
   "id": "ddcbe603-cdd3-4dd4-a65d-2af2615c58d0",
   "metadata": {},
   "outputs": [],
   "source": [
    "def media(lista):\n",
    "    soma = 0\n",
    "    for i in lista:\n",
    "        soma += i\n",
    "    return soma / len(lista)"
   ]
  },
  {
   "cell_type": "code",
   "execution_count": 16,
   "id": "72f1362e-da9d-40bc-8376-d2ed87529473",
   "metadata": {},
   "outputs": [],
   "source": [
    "def moda(lista):\n",
    "    moda_count = {}\n",
    "    mais_frequente = None\n",
    "    frequencia = 0\n",
    "    for i in lista:\n",
    "        if i in moda_count:\n",
    "            moda_count[i] += 1\n",
    "            if moda_count[i] > frequencia:\n",
    "                mais_frequente = i\n",
    "                frequencia = moda_count[i]\n",
    "        else:\n",
    "            moda_count[i] = 1\n",
    "    return mais_frequente"
   ]
  },
  {
   "cell_type": "code",
   "execution_count": 19,
   "id": "31ad398c-03b7-4306-af5b-6171d6b4dbcc",
   "metadata": {},
   "outputs": [],
   "source": [
    "def mediana(lista):\n",
    "    lista_ordenada = sorted(lista)\n",
    "    n = len(lista_ordenada)\n",
    "    meio = n // 2\n",
    "    if len(lista_ordenada) % 2 == 0:\n",
    "        return (lista_ordenada[meio] + lista_ordenada[maio-1]) / 2\n",
    "    else:\n",
    "        return lista_ordenada[meio]"
   ]
  },
  {
   "cell_type": "code",
   "execution_count": null,
   "id": "c25678b4-1376-4372-9ba4-e13bb3a26c1f",
   "metadata": {},
   "outputs": [],
   "source": []
  }
 ],
 "metadata": {
  "kernelspec": {
   "display_name": "Python 3 (ipykernel)",
   "language": "python",
   "name": "python3"
  },
  "language_info": {
   "codemirror_mode": {
    "name": "ipython",
    "version": 3
   },
   "file_extension": ".py",
   "mimetype": "text/x-python",
   "name": "python",
   "nbconvert_exporter": "python",
   "pygments_lexer": "ipython3",
   "version": "3.9.13"
  }
 },
 "nbformat": 4,
 "nbformat_minor": 5
}
