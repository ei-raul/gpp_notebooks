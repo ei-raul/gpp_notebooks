{
 "cells": [
  {
   "cell_type": "markdown",
   "id": "34ec1efc-b46f-4dc8-9c49-09d28ad5fcea",
   "metadata": {},
   "source": [
    "# Dicas:\n",
    "\n",
    "Para realizar esta atividade, pode ser útil pesquisar as documentações das bibliotecas necessárias:\n",
    "- [Dataframes do Pandas](https://pandas.pydata.org/docs/reference/frame.html)\n",
    "- [Seaborn](https://seaborn.pydata.org/api.html)"
   ]
  },
  {
   "cell_type": "code",
   "execution_count": 1,
   "id": "d8833e4c",
   "metadata": {},
   "outputs": [],
   "source": [
    "import pandas as pd # Pandas: biblioteca para manipular conjuntos de dados\n",
    "import seaborn as sns # Seaborn: biblioteca para visualizar dados através de gráficos"
   ]
  },
  {
   "cell_type": "code",
   "execution_count": 2,
   "id": "6ed5ba5e",
   "metadata": {},
   "outputs": [],
   "source": [
    "#Importando dataset\n",
    "df = pd.read_excel('Notas.xlsx')"
   ]
  },
  {
   "cell_type": "code",
   "execution_count": 3,
   "id": "6533ef18",
   "metadata": {},
   "outputs": [
    {
     "data": {
      "text/html": [
       "<div>\n",
       "<style scoped>\n",
       "    .dataframe tbody tr th:only-of-type {\n",
       "        vertical-align: middle;\n",
       "    }\n",
       "\n",
       "    .dataframe tbody tr th {\n",
       "        vertical-align: top;\n",
       "    }\n",
       "\n",
       "    .dataframe thead th {\n",
       "        text-align: right;\n",
       "    }\n",
       "</style>\n",
       "<table border=\"1\" class=\"dataframe\">\n",
       "  <thead>\n",
       "    <tr style=\"text-align: right;\">\n",
       "      <th></th>\n",
       "      <th>genero</th>\n",
       "      <th>etnia</th>\n",
       "      <th>escolaridade dos pais</th>\n",
       "      <th>almoco</th>\n",
       "      <th>simulado</th>\n",
       "      <th>nota matematica</th>\n",
       "      <th>nota literatura</th>\n",
       "      <th>nota redacao</th>\n",
       "    </tr>\n",
       "  </thead>\n",
       "  <tbody>\n",
       "    <tr>\n",
       "      <th>0</th>\n",
       "      <td>female</td>\n",
       "      <td>group B</td>\n",
       "      <td>bachelor's degree</td>\n",
       "      <td>standard</td>\n",
       "      <td>none</td>\n",
       "      <td>72</td>\n",
       "      <td>72</td>\n",
       "      <td>74</td>\n",
       "    </tr>\n",
       "    <tr>\n",
       "      <th>1</th>\n",
       "      <td>female</td>\n",
       "      <td>group C</td>\n",
       "      <td>some college</td>\n",
       "      <td>standard</td>\n",
       "      <td>completed</td>\n",
       "      <td>69</td>\n",
       "      <td>90</td>\n",
       "      <td>88</td>\n",
       "    </tr>\n",
       "    <tr>\n",
       "      <th>2</th>\n",
       "      <td>female</td>\n",
       "      <td>group B</td>\n",
       "      <td>master's degree</td>\n",
       "      <td>standard</td>\n",
       "      <td>none</td>\n",
       "      <td>90</td>\n",
       "      <td>95</td>\n",
       "      <td>93</td>\n",
       "    </tr>\n",
       "    <tr>\n",
       "      <th>3</th>\n",
       "      <td>male</td>\n",
       "      <td>group A</td>\n",
       "      <td>associate's degree</td>\n",
       "      <td>free/reduced</td>\n",
       "      <td>none</td>\n",
       "      <td>47</td>\n",
       "      <td>57</td>\n",
       "      <td>44</td>\n",
       "    </tr>\n",
       "    <tr>\n",
       "      <th>4</th>\n",
       "      <td>male</td>\n",
       "      <td>group C</td>\n",
       "      <td>some college</td>\n",
       "      <td>standard</td>\n",
       "      <td>none</td>\n",
       "      <td>76</td>\n",
       "      <td>78</td>\n",
       "      <td>75</td>\n",
       "    </tr>\n",
       "    <tr>\n",
       "      <th>...</th>\n",
       "      <td>...</td>\n",
       "      <td>...</td>\n",
       "      <td>...</td>\n",
       "      <td>...</td>\n",
       "      <td>...</td>\n",
       "      <td>...</td>\n",
       "      <td>...</td>\n",
       "      <td>...</td>\n",
       "    </tr>\n",
       "    <tr>\n",
       "      <th>995</th>\n",
       "      <td>female</td>\n",
       "      <td>group E</td>\n",
       "      <td>master's degree</td>\n",
       "      <td>standard</td>\n",
       "      <td>completed</td>\n",
       "      <td>88</td>\n",
       "      <td>99</td>\n",
       "      <td>95</td>\n",
       "    </tr>\n",
       "    <tr>\n",
       "      <th>996</th>\n",
       "      <td>male</td>\n",
       "      <td>group C</td>\n",
       "      <td>high school</td>\n",
       "      <td>free/reduced</td>\n",
       "      <td>none</td>\n",
       "      <td>62</td>\n",
       "      <td>55</td>\n",
       "      <td>55</td>\n",
       "    </tr>\n",
       "    <tr>\n",
       "      <th>997</th>\n",
       "      <td>female</td>\n",
       "      <td>group C</td>\n",
       "      <td>high school</td>\n",
       "      <td>free/reduced</td>\n",
       "      <td>completed</td>\n",
       "      <td>59</td>\n",
       "      <td>71</td>\n",
       "      <td>65</td>\n",
       "    </tr>\n",
       "    <tr>\n",
       "      <th>998</th>\n",
       "      <td>female</td>\n",
       "      <td>group D</td>\n",
       "      <td>some college</td>\n",
       "      <td>standard</td>\n",
       "      <td>completed</td>\n",
       "      <td>68</td>\n",
       "      <td>78</td>\n",
       "      <td>77</td>\n",
       "    </tr>\n",
       "    <tr>\n",
       "      <th>999</th>\n",
       "      <td>female</td>\n",
       "      <td>group D</td>\n",
       "      <td>some college</td>\n",
       "      <td>free/reduced</td>\n",
       "      <td>none</td>\n",
       "      <td>77</td>\n",
       "      <td>86</td>\n",
       "      <td>86</td>\n",
       "    </tr>\n",
       "  </tbody>\n",
       "</table>\n",
       "<p>1000 rows × 8 columns</p>\n",
       "</div>"
      ],
      "text/plain": [
       "     genero    etnia escolaridade dos pais        almoco   simulado  \\\n",
       "0    female  group B     bachelor's degree      standard       none   \n",
       "1    female  group C          some college      standard  completed   \n",
       "2    female  group B       master's degree      standard       none   \n",
       "3      male  group A    associate's degree  free/reduced       none   \n",
       "4      male  group C          some college      standard       none   \n",
       "..      ...      ...                   ...           ...        ...   \n",
       "995  female  group E       master's degree      standard  completed   \n",
       "996    male  group C           high school  free/reduced       none   \n",
       "997  female  group C           high school  free/reduced  completed   \n",
       "998  female  group D          some college      standard  completed   \n",
       "999  female  group D          some college  free/reduced       none   \n",
       "\n",
       "     nota matematica  nota literatura  nota redacao  \n",
       "0                 72               72            74  \n",
       "1                 69               90            88  \n",
       "2                 90               95            93  \n",
       "3                 47               57            44  \n",
       "4                 76               78            75  \n",
       "..               ...              ...           ...  \n",
       "995               88               99            95  \n",
       "996               62               55            55  \n",
       "997               59               71            65  \n",
       "998               68               78            77  \n",
       "999               77               86            86  \n",
       "\n",
       "[1000 rows x 8 columns]"
      ]
     },
     "execution_count": 3,
     "metadata": {},
     "output_type": "execute_result"
    }
   ],
   "source": [
    "df"
   ]
  },
  {
   "cell_type": "markdown",
   "id": "ff65e918",
   "metadata": {},
   "source": [
    "# 1) Qual a quantidade de linhas e colunas desse dataframe?"
   ]
  },
  {
   "cell_type": "code",
   "execution_count": 4,
   "id": "d7a4076f",
   "metadata": {},
   "outputs": [],
   "source": [
    "# Escreva um código aqui"
   ]
  },
  {
   "cell_type": "markdown",
   "id": "566f0933",
   "metadata": {},
   "source": [
    "# 2) Quais os tipos das váriaveis (colunas) desse dataframe?"
   ]
  },
  {
   "cell_type": "code",
   "execution_count": 5,
   "id": "a35b1ce0",
   "metadata": {},
   "outputs": [],
   "source": [
    "# Escreva um código aqui"
   ]
  },
  {
   "cell_type": "markdown",
   "id": "95e483cf",
   "metadata": {},
   "source": [
    "# 3) Há valores nulos nesse dataframe?"
   ]
  },
  {
   "cell_type": "code",
   "execution_count": 6,
   "id": "bf405271",
   "metadata": {},
   "outputs": [],
   "source": [
    "# Escreva um código aqui"
   ]
  },
  {
   "cell_type": "markdown",
   "id": "88068d0a",
   "metadata": {},
   "source": [
    "# 4) Crie um novo dataframe chamado \"df1\", esse dataframe deve possuir somente as colunas \"genero\" e \"almoco\" do dataframe original"
   ]
  },
  {
   "cell_type": "code",
   "execution_count": 7,
   "id": "3bc3c542",
   "metadata": {},
   "outputs": [],
   "source": [
    "# Escreva um código aqui"
   ]
  },
  {
   "cell_type": "markdown",
   "id": "9cdd640a",
   "metadata": {},
   "source": [
    "# 5) Ordene o dataset de forma crescente de acordo com a nota de redação"
   ]
  },
  {
   "cell_type": "code",
   "execution_count": 8,
   "id": "3d5638ed",
   "metadata": {},
   "outputs": [],
   "source": [
    "# Escreva um código aqui"
   ]
  },
  {
   "cell_type": "markdown",
   "id": "460d5f45",
   "metadata": {},
   "source": [
    "# 6) Qual é a maior nota em matemática? "
   ]
  },
  {
   "cell_type": "code",
   "execution_count": 9,
   "id": "5317ba35",
   "metadata": {},
   "outputs": [],
   "source": [
    "# Escreva um código aqui"
   ]
  },
  {
   "cell_type": "markdown",
   "id": "8b13773b",
   "metadata": {},
   "source": [
    "# 7) Qual é a menor nota em literatura? "
   ]
  },
  {
   "cell_type": "code",
   "execution_count": 10,
   "id": "9ea4b547",
   "metadata": {},
   "outputs": [],
   "source": [
    "# Escreva um código aqui"
   ]
  },
  {
   "cell_type": "markdown",
   "id": "6b8d7711",
   "metadata": {},
   "source": [
    "# 8) Qual é a soma de todas as notas em redacao?"
   ]
  },
  {
   "cell_type": "code",
   "execution_count": 11,
   "id": "a666800d",
   "metadata": {},
   "outputs": [],
   "source": [
    "# Escreva um código aqui"
   ]
  },
  {
   "cell_type": "markdown",
   "id": "bc98def8",
   "metadata": {},
   "source": [
    "# 9) Qual é a nota em matemática do aluno de index 502?"
   ]
  },
  {
   "cell_type": "code",
   "execution_count": 12,
   "id": "3049fd01",
   "metadata": {},
   "outputs": [],
   "source": [
    "# Escreva um código aqui"
   ]
  },
  {
   "cell_type": "markdown",
   "id": "4d8a9ee7",
   "metadata": {},
   "source": [
    "# 10) Quantos grupos étnicos existem no dataframe?"
   ]
  },
  {
   "cell_type": "code",
   "execution_count": 13,
   "id": "2a3087ed",
   "metadata": {},
   "outputs": [],
   "source": [
    "# Escreva um código aqui"
   ]
  },
  {
   "cell_type": "markdown",
   "id": "f4b315b8",
   "metadata": {},
   "source": [
    "# 11) Dentro da coluna etnia, qual é o grupo que possui a maior quantidade de pessoas?"
   ]
  },
  {
   "cell_type": "code",
   "execution_count": 14,
   "id": "606bf369",
   "metadata": {},
   "outputs": [],
   "source": [
    "# Escreva um código aqui"
   ]
  },
  {
   "cell_type": "markdown",
   "id": "c877ce8f",
   "metadata": {},
   "source": [
    "# 12) Qual é o index da aluna que tirou a menor nota em literatura? "
   ]
  },
  {
   "cell_type": "code",
   "execution_count": 15,
   "id": "e32d91dc",
   "metadata": {},
   "outputs": [],
   "source": [
    "# Escreva um código aqui"
   ]
  },
  {
   "cell_type": "markdown",
   "id": "dde12c51",
   "metadata": {},
   "source": [
    "# 13) Qual é a escolaridade mais comum entre os pais dos alunos?"
   ]
  },
  {
   "cell_type": "code",
   "execution_count": 16,
   "id": "1b3ff57f",
   "metadata": {},
   "outputs": [],
   "source": [
    "# Escreva um código aqui"
   ]
  },
  {
   "cell_type": "markdown",
   "id": "3cce1170",
   "metadata": {},
   "source": [
    "# 14) Printe a correlação entre as variáveise identifique  a variável que tem a maior correlação positiva com as notas em redação"
   ]
  },
  {
   "cell_type": "code",
   "execution_count": 17,
   "id": "3568a8c6",
   "metadata": {},
   "outputs": [],
   "source": [
    "# Escreva um código aqui"
   ]
  },
  {
   "cell_type": "markdown",
   "id": "314678d8",
   "metadata": {},
   "source": [
    "# 15) Realize um groupby e agrupe a coluna \"escolaridade dos pais\". Após agrupado, verifique qual é a maior nota média em matemática dentre os grupos."
   ]
  },
  {
   "cell_type": "code",
   "execution_count": 18,
   "id": "6db64ede",
   "metadata": {},
   "outputs": [],
   "source": [
    "# Escreva um código aqui"
   ]
  },
  {
   "cell_type": "markdown",
   "id": "06e81b79",
   "metadata": {},
   "source": [
    "# 16) Plote um gráfico de barras que compara a média da nota em literatura de pessoas que tem almoço standard com as que tem almoço free/reduced"
   ]
  },
  {
   "cell_type": "code",
   "execution_count": 19,
   "id": "b612e5a5",
   "metadata": {},
   "outputs": [],
   "source": [
    "# Escreva um código aqui"
   ]
  },
  {
   "cell_type": "markdown",
   "id": "7337b18f",
   "metadata": {},
   "source": [
    "# 17) Crie uma nova coluna chamada \"media geral\", ela deve ser uma média das notas de matemática, literatura e redação."
   ]
  },
  {
   "cell_type": "code",
   "execution_count": 20,
   "id": "d1e30145",
   "metadata": {},
   "outputs": [],
   "source": [
    "# Escreva um código aqui"
   ]
  },
  {
   "cell_type": "markdown",
   "id": "74a62644",
   "metadata": {},
   "source": [
    "# 18) Plote um histograma com as notas da media geral"
   ]
  },
  {
   "cell_type": "code",
   "execution_count": 21,
   "id": "0f6ac2d0",
   "metadata": {},
   "outputs": [],
   "source": [
    "# Escreva um código aqui"
   ]
  },
  {
   "cell_type": "markdown",
   "id": "0927b985",
   "metadata": {},
   "source": [
    "# 19) Verifique qual é a média geral de pessoas que completaram o simulado e compare com a média geral de pessoas que não completaram o simulado."
   ]
  },
  {
   "cell_type": "code",
   "execution_count": 22,
   "id": "b30a1d82",
   "metadata": {},
   "outputs": [],
   "source": [
    "# Escreva um código aqui"
   ]
  },
  {
   "cell_type": "markdown",
   "id": "f105ad48",
   "metadata": {},
   "source": [
    "# 20) O diretor da escola decidiu dar 10 pontos na média geral para pessoas que completaram o simulado. Crie um código que faça essa operação de forma que nenhuma pessoa exceda os 100 pontos."
   ]
  },
  {
   "cell_type": "code",
   "execution_count": 23,
   "id": "32e0a585",
   "metadata": {},
   "outputs": [],
   "source": [
    "# Escreva um código aqui"
   ]
  }
 ],
 "metadata": {
  "kernelspec": {
   "display_name": "Python 3 (ipykernel)",
   "language": "python",
   "name": "python3"
  },
  "language_info": {
   "codemirror_mode": {
    "name": "ipython",
    "version": 3
   },
   "file_extension": ".py",
   "mimetype": "text/x-python",
   "name": "python",
   "nbconvert_exporter": "python",
   "pygments_lexer": "ipython3",
   "version": "3.9.12"
  }
 },
 "nbformat": 4,
 "nbformat_minor": 5
}
