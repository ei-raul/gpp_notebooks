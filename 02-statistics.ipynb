{
 "cells": [
  {
   "cell_type": "markdown",
   "id": "4e2f6e46-feb8-41fc-9965-9b5f222dbf67",
   "metadata": {},
   "source": [
    "# Estatística Básica"
   ]
  },
  {
   "cell_type": "markdown",
   "id": "b0033cd8-ce1b-4efa-9ddc-3d686996c5c8",
   "metadata": {
    "tags": []
   },
   "source": [
    "## Definições básicas\n",
    "\n",
    "**População** é o conjunto de elementos que têm pelo menos uma característica em comum.\n",
    "\n",
    "**Amostra** é um subconjunto de elementos representativos de uma população.\n",
    "\n",
    "**Variável** é a característica de um elemento que vai ser observada, medida ou contada nos elementos da população ou da amostra e que pode variar de elemento para elemento.\n",
    "\n",
    "- **quantitativa:** variáveis numéricas que expressam uma quantidade.\n",
    "    - **discreta:** número inteiro ou pertencente a um conjunto finito enumerável;\n",
    "    - **contínua:** números em intervalos da reta real, resultantes de mensurações.\n",
    "    \n",
    "- **qualitativa:** variáveis cujos valores determinam atributos ou qualidades.\n",
    "    - **nominal:** não apresentam ordem natural de ocorrência dos valores;\n",
    "    - **ordinal:** os valores apresentam uma ordem natural de ocorrência."
   ]
  },
  {
   "cell_type": "code",
   "execution_count": 6,
   "id": "78a1169b-2a17-4271-bc15-b905ce33d3e1",
   "metadata": {},
   "outputs": [],
   "source": [
    "lista_de_idades = [12, 13, 21, 8, 9, 20] #variável quantitativa discreta"
   ]
  },
  {
   "cell_type": "code",
   "execution_count": 7,
   "id": "74c41db9-a494-4a2b-a8b2-f1e5176a8e2a",
   "metadata": {},
   "outputs": [],
   "source": [
    "lista_de_alturas = [1.75, 1.60, 1.82, 1.9] #variável quantitativa contínua"
   ]
  },
  {
   "cell_type": "code",
   "execution_count": 9,
   "id": "6bb6fdea-5486-4512-aedd-55ac7d1caaac",
   "metadata": {},
   "outputs": [],
   "source": [
    "lista_de_cursos = [\n",
    "    'Sistemas de Informação',\n",
    "    'Engenharia de Software',\n",
    "    'Jornalismo',\n",
    "    'Medicina'\n",
    "] # variável categórica nominal (não há uma ordem natural entre os valores)"
   ]
  },
  {
   "cell_type": "code",
   "execution_count": 10,
   "id": "f1d14dd9-cf87-4b61-8a5c-86d3a62e797e",
   "metadata": {},
   "outputs": [],
   "source": [
    "lista_de_tamanhos = [\n",
    "    'Extra pequeno',\n",
    "    'Pequeno',\n",
    "    'Médio',\n",
    "    'Grande',\n",
    "    'Extra grande'\n",
    "] # variável categórica ordinal (há uma ordem natural entre os valores)"
   ]
  },
  {
   "cell_type": "markdown",
   "id": "81f1bc31-3518-423d-b595-167ac70b067f",
   "metadata": {
    "tags": []
   },
   "source": [
    "## Distribuição de frequência\n",
    "\n",
    "### Distribuição de frequência pontual (sem perda de informação)\n",
    "\n",
    "**Amplitude total:** é a diferença entre o maior e o menor elemento de um conjunto. \n",
    "$$AT = x_{max} - x_{min}$$\n",
    "\n",
    "**Frequência relativa:** $f_i = \\frac{F_i}{n}$, onde n é o tamanho da amostra e $F_i$ é a frequência absoluta, ou seja, o número de vezes que o valor aparece na amostra. A soma total de $f_i$ resulta em 1.\n",
    "\n",
    "**Frequência relativa em percentual:** $f_{i\\%} = \\frac{F_i}{n} \\cdot 100$. A soma total de $f_{i\\%}$ resulta em 100%."
   ]
  },
  {
   "cell_type": "code",
   "execution_count": 11,
   "id": "243ac41f-fa7d-4547-9d59-654ca59c9e75",
   "metadata": {},
   "outputs": [],
   "source": [
    "def amplitude_total(lista):\n",
    "    return max(lista) - min(lista)"
   ]
  },
  {
   "cell_type": "code",
   "execution_count": 13,
   "id": "44d0a906-9b88-486f-9386-2ddf36850fe4",
   "metadata": {},
   "outputs": [],
   "source": [
    "def frequencia_relativa(lista, elemento):\n",
    "    count  = 0\n",
    "    for n in lista:\n",
    "        if n == elemento:\n",
    "            count += 1\n",
    "    return count / len(lista)"
   ]
  },
  {
   "cell_type": "code",
   "execution_count": 14,
   "id": "f1c6122c-b0be-4820-b42f-bea740ba5e9e",
   "metadata": {},
   "outputs": [],
   "source": [
    "def frequencia_relativa_por_cem(lista, elemento):\n",
    "    return frequencia_relativa(lista, elemento) * 100"
   ]
  },
  {
   "cell_type": "markdown",
   "id": "9a023fe5-7cb0-4593-8d12-6b8b674f040b",
   "metadata": {
    "tags": []
   },
   "source": [
    "## Medidas descritivas\n",
    "\n",
    "**Média aritmética:** seja $(x_1, x_2, \\dots, x_n)$ um conjunto de dados. A média aritmética é dada por: \n",
    "\n",
    "$\\mu = \\frac{\\sum\\limits_{i=0}^{N}x_i}{N}$, ou $\\bar{X} = \\frac{\\sum\\limits_{i=0}^{n}x_i}{n}$\n",
    "\n",
    ", para uma população ou uma amostra, respectivamente. \n",
    "\n",
    "*Características da média aritmética:*\n",
    "- depente de todas as observações;\n",
    "- é única em um conjunto de dados e nem sempre tem existência real;\n",
    "- é afetada por valores extremos;\n",
    "- sofre com alteração em qualquer valor do conjunto de dados;\n",
    "- a soma dos desvios é sempre zero: $\\sum(x_i - \\bar{X}) = 0$.\n",
    "\n",
    "**Moda:** é o valor que apresenta maior frequência da variável dentre os valores observados.\n",
    "$$M_o = l_i + \\frac{h \\cdot (F_i - F_{i-1})}{(F_i - F_{i-1}) + (F_i - F_i+1)}$$, onde:\n",
    "\n",
    "- $i$ é a ordem da classe modal;\n",
    "- $l_i$ é o limite inferior da classe modal;\n",
    "- $h$ é a amplitude da classe modal;\n",
    "- $F_i$ é a frequência absoluta da classe modal;\n",
    "- $F_{i-1}$ é a frequência absoluta da classe anterior à modal; e\n",
    "- $F_{i+1}$ é a frequência absoluta da classe posterior à modal.\n",
    "\n",
    "**Mediana:** é o valor que ocupa a posição central de um conjunto de observações. Ordenando-se os valores, a quantidade de elementos com inferiores à mediana é igual à quantidade de elementos superiores à mediana."
   ]
  },
  {
   "cell_type": "code",
   "execution_count": 27,
   "id": "ddcbe603-cdd3-4dd4-a65d-2af2615c58d0",
   "metadata": {},
   "outputs": [],
   "source": [
    "def media(lista):\n",
    "    soma = 0\n",
    "    for i in lista:\n",
    "        soma += i\n",
    "    return soma / len(lista)"
   ]
  },
  {
   "cell_type": "code",
   "execution_count": 29,
   "id": "72f1362e-da9d-40bc-8376-d2ed87529473",
   "metadata": {},
   "outputs": [],
   "source": [
    "def moda(lista):\n",
    "    moda_count = {}\n",
    "    mais_frequente = None\n",
    "    frequencia = 0\n",
    "    for i in lista:\n",
    "        if i in moda_count:\n",
    "            moda_count[i] += 1\n",
    "        else:\n",
    "            moda_count[i] = 1\n",
    "        if moda_count[i] > frequencia:\n",
    "                mais_frequente = i\n",
    "                frequencia = moda_count[i]\n",
    "    return mais_frequente"
   ]
  },
  {
   "cell_type": "code",
   "execution_count": 26,
   "id": "31ad398c-03b7-4306-af5b-6171d6b4dbcc",
   "metadata": {},
   "outputs": [],
   "source": [
    "def mediana(lista):\n",
    "    lista_ordenada = sorted(lista)\n",
    "    n = len(lista_ordenada)\n",
    "    meio = n // 2\n",
    "    if len(lista_ordenada) % 2 == 0:\n",
    "        return (lista_ordenada[meio] + lista_ordenada[meio-1]) / 2\n",
    "    else:\n",
    "        return lista_ordenada[meio]"
   ]
  },
  {
   "cell_type": "markdown",
   "id": "28edf0ab-3b97-4be8-b7e7-52943ed53e97",
   "metadata": {
    "tags": []
   },
   "source": [
    "## Medidas Separatrizes\n",
    "\n",
    "As medidas separatrizes são valores que ocupam posições no conjunto de dados, dividindo-o em partes iguais.\n",
    "\n",
    "### Quartis\n",
    "- **1º quartil ($Q_1$):** 25% dos dados são valores menores ou iguais ao valor do primeiro quartil. (Posição = $0.25(n+1)$)\n",
    "- **2º quartil ($Q_2 = M_d$):** 50% dos dados são valores menores ou iguais ao valor do primeiro quartil. (Posição = $0.5(n+1)$)\n",
    "- **3º quartil ($Q_3$):** 75% dos dados são valores menores ou iguais ao valor do primeiro quartil. (Posição = $0.75(n+1)$)\n"
   ]
  },
  {
   "cell_type": "code",
   "execution_count": 76,
   "id": "896f326b-fac8-4656-82cd-e533c03d880e",
   "metadata": {},
   "outputs": [],
   "source": [
    "# Calculando os quartis de uma lista de valores quantitativos\n",
    "lista_de_valores = [2, 1, 3, 4, 5, 1, 1, 7, 1, 3, 8, 9, 2, 3, 4]\n",
    "# Passo 1: ordenar a lista\n",
    "lista_ordenada = sorted(lista_de_valores)"
   ]
  },
  {
   "cell_type": "code",
   "execution_count": 77,
   "id": "1ca0dd6d-1838-466a-a92c-00fdc7519455",
   "metadata": {},
   "outputs": [
    {
     "data": {
      "text/plain": [
       "[1, 1, 1, 1, 2, 2, 3, 3, 3, 4, 4, 5, 7, 8, 9]"
      ]
     },
     "execution_count": 77,
     "metadata": {},
     "output_type": "execute_result"
    }
   ],
   "source": [
    "lista_ordenada"
   ]
  },
  {
   "cell_type": "code",
   "execution_count": 78,
   "id": "b37405f0-00d7-4092-8de9-b4a7e9238b4b",
   "metadata": {},
   "outputs": [],
   "source": [
    "q1 = media(lista_ordenada[int(0.25 * len(lista_ordenada))-1 : int(0.25 * len(lista_ordenada))+1])\n",
    "q2 = media(lista_ordenada[int(0.5 * len(lista_ordenada))-1 : int(0.5 * len(lista_ordenada))+1])\n",
    "q3 = media(lista_ordenada[int(0.75 * len(lista_ordenada))-1 : int(0.75 * len(lista_ordenada))+1])"
   ]
  },
  {
   "cell_type": "code",
   "execution_count": 82,
   "id": "ba6db4a8-0778-44e7-addb-d7119a7dd1a8",
   "metadata": {},
   "outputs": [
    {
     "name": "stdout",
     "output_type": "stream",
     "text": [
      "Q1 = 1.0, Q2 = 3.0, Q3 = 4.5\n"
     ]
    }
   ],
   "source": [
    "print(f'Q1 = {q1}, Q2 = {q2}, Q3 = {q3}')"
   ]
  },
  {
   "cell_type": "markdown",
   "id": "77f3e190-e680-43e3-8e90-bf873dde2c9a",
   "metadata": {},
   "source": [
    "## Medidas de dispersão\n",
    "\n",
    "- **Amplitude total:** é a diferença entre o maior e o menor valores do conjunto.\n",
    "$$AT = X_{max} - X_{min}$$\n",
    "\n",
    "- **Amplitude interquartílica:** é a diferença entre o terceiro e o primeiro quartis. É mais estável que a amplitude total porque desconsidera os valores extremos. $$d_q = Q_3 - Q_1$$\n",
    "\n",
    "- **Desvio médio:** a diferença entre cada valor observado e a média é denominada desvio e é dada por $(x_i - \\mu)$. A soma total dos desvios é sempre igual a zero. Para evitar isto, utiliza-se o somatório dos módulos das diferenças. Assim, o desvio médio é dado pela equação $$d_m = \\frac{\\sum\\limits_{i=0}^{N}|x_i - \\mu|}{N}$$\n",
    "\n",
    "- **Variância e Desvio padrão:** o desvio médio, apesar de fazer sentido, não costuma ser utilizado. A variância, no entanto, considera o quadrado dos desvios em relação à média e é amplamente utilizada.\n",
    "\n",
    "$$\\sigma^2 = \\frac{\\sum\\limits_{i=0}^{N}{(x_i - \\mu)}^2}{N}$$\n",
    "\n",
    "O desvio padrão é obtido através da raiz quadrada da variância:\n",
    "\n",
    "$$\\sigma = \\sqrt{\\frac{\\sum\\limits_{i=0}^{N}{(x_i - \\mu)}^2}{N}}$$"
   ]
  },
  {
   "cell_type": "code",
   "execution_count": 85,
   "id": "cb24ab0e-cb59-44c5-ab04-d58345f784ab",
   "metadata": {},
   "outputs": [],
   "source": [
    "def desvio_medio(lista):\n",
    "    m = media(lista)\n",
    "    soma_desvios = 0\n",
    "    for x in lista:\n",
    "        soma_desvios += abs(x - m)\n",
    "    return soma_desvios / len(lista)"
   ]
  },
  {
   "cell_type": "code",
   "execution_count": 87,
   "id": "0b371e1d-cad1-4e8f-9114-c54fb8b5f7fd",
   "metadata": {},
   "outputs": [],
   "source": [
    "def variancia(lista):\n",
    "    m = media(lista)\n",
    "    soma_desvios = 0\n",
    "    for x in lista:\n",
    "        soma_desvios += pow(x - m, 2)\n",
    "    return soma_desvios / len(lista)"
   ]
  },
  {
   "cell_type": "code",
   "execution_count": 88,
   "id": "5697fd3e-880c-40e8-b271-c1682d615856",
   "metadata": {},
   "outputs": [],
   "source": [
    "import math\n",
    "def desvio_padrao(lista):\n",
    "    return math.sqrt(variancia(lista))"
   ]
  }
 ],
 "metadata": {
  "kernelspec": {
   "display_name": "Python 3 (ipykernel)",
   "language": "python",
   "name": "python3"
  },
  "language_info": {
   "codemirror_mode": {
    "name": "ipython",
    "version": 3
   },
   "file_extension": ".py",
   "mimetype": "text/x-python",
   "name": "python",
   "nbconvert_exporter": "python",
   "pygments_lexer": "ipython3",
   "version": "3.9.13"
  }
 },
 "nbformat": 4,
 "nbformat_minor": 5
}
